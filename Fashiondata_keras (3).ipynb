{
  "cells": [
    {
      "cell_type": "markdown",
      "id": "eda970b8-f2bc-4f20-9f6a-d6d1308bf9af",
      "metadata": {
        "id": "eda970b8-f2bc-4f20-9f6a-d6d1308bf9af"
      },
      "source": [
        "https://keras.io/api/datasets/fashion_mnist/:\n",
        "60000 images of 10 fashion categories-\n",
        "10000 images"
      ]
    },
    {
      "cell_type": "markdown",
      "source": [],
      "metadata": {
        "id": "9rvB-QEG1w7A"
      },
      "id": "9rvB-QEG1w7A"
    },
    {
      "cell_type": "markdown",
      "source": [
        "https://www.marktechpost.com/wp-content/uploads/2022/09/Screen-Shot-2022-09-23-at-10.46.58-PM-1024x499.png"
      ],
      "metadata": {
        "id": "xUqjTz4u14k8"
      },
      "id": "xUqjTz4u14k8"
    },
    {
      "cell_type": "code",
      "source": [
        "https://keras.io/api/datasets/cifar10/"
      ],
      "metadata": {
        "id": "sHDK0TOe7zOv"
      },
      "id": "sHDK0TOe7zOv",
      "execution_count": null,
      "outputs": []
    },
    {
      "cell_type": "code",
      "execution_count": null,
      "id": "70cb3f3d-2e4c-4409-b046-32f4b89a3a53",
      "metadata": {
        "id": "70cb3f3d-2e4c-4409-b046-32f4b89a3a53"
      },
      "outputs": [],
      "source": [
        "import numpy as np\n",
        "import matplotlib.pyplot as plt\n",
        "from tensorflow.keras.datasets import cifar10\n"
      ]
    },
    {
      "cell_type": "code",
      "source": [
        "#from tensorflow.keras.datasets import"
      ],
      "metadata": {
        "id": "CugG5pOTnANP"
      },
      "id": "CugG5pOTnANP",
      "execution_count": null,
      "outputs": []
    },
    {
      "cell_type": "code",
      "execution_count": null,
      "id": "66ce23bd-b950-44ae-82ea-d1521be3ef00",
      "metadata": {
        "id": "66ce23bd-b950-44ae-82ea-d1521be3ef00",
        "colab": {
          "base_uri": "https://localhost:8080/"
        },
        "outputId": "e57438c2-52eb-4940-f8de-93ab785166a5"
      },
      "outputs": [
        {
          "output_type": "stream",
          "name": "stdout",
          "text": [
            "Downloading data from https://www.cs.toronto.edu/~kriz/cifar-10-python.tar.gz\n",
            "\u001b[1m170498071/170498071\u001b[0m \u001b[32m━━━━━━━━━━━━━━━━━━━━\u001b[0m\u001b[37m\u001b[0m \u001b[1m3s\u001b[0m 0us/step\n"
          ]
        }
      ],
      "source": [
        "(x_train,y_train),(x_test,y_test)=cifar10.load_data()"
      ]
    },
    {
      "cell_type": "code",
      "execution_count": null,
      "id": "e6b98d59-dd6e-44f6-bea0-7548bdb50d01",
      "metadata": {
        "colab": {
          "base_uri": "https://localhost:8080/"
        },
        "id": "e6b98d59-dd6e-44f6-bea0-7548bdb50d01",
        "outputId": "7db5307f-a6e1-4b43-8943-4c638d6d683e"
      },
      "outputs": [
        {
          "output_type": "execute_result",
          "data": {
            "text/plain": [
              "(50000, 32, 32, 3)"
            ]
          },
          "metadata": {},
          "execution_count": 4
        }
      ],
      "source": [
        "x_train.shape"
      ]
    },
    {
      "cell_type": "code",
      "execution_count": null,
      "id": "c4753c4d-368e-4d47-b710-773d4daed6bb",
      "metadata": {
        "colab": {
          "base_uri": "https://localhost:8080/"
        },
        "id": "c4753c4d-368e-4d47-b710-773d4daed6bb",
        "outputId": "22a81539-19ec-4846-f5c5-70a092ee910f"
      },
      "outputs": [
        {
          "output_type": "execute_result",
          "data": {
            "text/plain": [
              "(10000, 32, 32, 3)"
            ]
          },
          "metadata": {},
          "execution_count": 5
        }
      ],
      "source": [
        "x_test.shape"
      ]
    },
    {
      "cell_type": "code",
      "execution_count": null,
      "id": "9e127073-dbea-4bb6-b0a6-2f256a3c0d29",
      "metadata": {
        "colab": {
          "base_uri": "https://localhost:8080/",
          "height": 72
        },
        "id": "9e127073-dbea-4bb6-b0a6-2f256a3c0d29",
        "outputId": "2ae86b68-8907-435f-b211-4fc71210dd17"
      },
      "outputs": [
        {
          "output_type": "execute_result",
          "data": {
            "text/plain": [
              "array([[[ 59,  62,  63],\n",
              "        [ 43,  46,  45],\n",
              "        [ 50,  48,  43],\n",
              "        ...,\n",
              "        [158, 132, 108],\n",
              "        [152, 125, 102],\n",
              "        [148, 124, 103]],\n",
              "\n",
              "       [[ 16,  20,  20],\n",
              "        [  0,   0,   0],\n",
              "        [ 18,   8,   0],\n",
              "        ...,\n",
              "        [123,  88,  55],\n",
              "        [119,  83,  50],\n",
              "        [122,  87,  57]],\n",
              "\n",
              "       [[ 25,  24,  21],\n",
              "        [ 16,   7,   0],\n",
              "        [ 49,  27,   8],\n",
              "        ...,\n",
              "        [118,  84,  50],\n",
              "        [120,  84,  50],\n",
              "        [109,  73,  42]],\n",
              "\n",
              "       ...,\n",
              "\n",
              "       [[208, 170,  96],\n",
              "        [201, 153,  34],\n",
              "        [198, 161,  26],\n",
              "        ...,\n",
              "        [160, 133,  70],\n",
              "        [ 56,  31,   7],\n",
              "        [ 53,  34,  20]],\n",
              "\n",
              "       [[180, 139,  96],\n",
              "        [173, 123,  42],\n",
              "        [186, 144,  30],\n",
              "        ...,\n",
              "        [184, 148,  94],\n",
              "        [ 97,  62,  34],\n",
              "        [ 83,  53,  34]],\n",
              "\n",
              "       [[177, 144, 116],\n",
              "        [168, 129,  94],\n",
              "        [179, 142,  87],\n",
              "        ...,\n",
              "        [216, 184, 140],\n",
              "        [151, 118,  84],\n",
              "        [123,  92,  72]]], dtype=uint8)"
            ],
            "text/html": [
              "<style>\n",
              "      .ndarray_repr .ndarray_raw_data {\n",
              "        display: none;\n",
              "      }\n",
              "      .ndarray_repr.show_array .ndarray_raw_data {\n",
              "        display: block;\n",
              "      }\n",
              "      .ndarray_repr.show_array .ndarray_image_preview {\n",
              "        display: none;\n",
              "      }\n",
              "      </style>\n",
              "      <div id=\"id-aee12e4e-36a5-4214-aa5b-e950c0cb08da\" class=\"ndarray_repr\"><pre>ndarray (32, 32, 3) <button style=\"padding: 0 2px;\">show data</button></pre><img src=\"data:image/png;base64,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\" class=\"ndarray_image_preview\" /><pre class=\"ndarray_raw_data\">array([[[ 59,  62,  63],\n",
              "        [ 43,  46,  45],\n",
              "        [ 50,  48,  43],\n",
              "        ...,\n",
              "        [158, 132, 108],\n",
              "        [152, 125, 102],\n",
              "        [148, 124, 103]],\n",
              "\n",
              "       [[ 16,  20,  20],\n",
              "        [  0,   0,   0],\n",
              "        [ 18,   8,   0],\n",
              "        ...,\n",
              "        [123,  88,  55],\n",
              "        [119,  83,  50],\n",
              "        [122,  87,  57]],\n",
              "\n",
              "       [[ 25,  24,  21],\n",
              "        [ 16,   7,   0],\n",
              "        [ 49,  27,   8],\n",
              "        ...,\n",
              "        [118,  84,  50],\n",
              "        [120,  84,  50],\n",
              "        [109,  73,  42]],\n",
              "\n",
              "       ...,\n",
              "\n",
              "       [[208, 170,  96],\n",
              "        [201, 153,  34],\n",
              "        [198, 161,  26],\n",
              "        ...,\n",
              "        [160, 133,  70],\n",
              "        [ 56,  31,   7],\n",
              "        [ 53,  34,  20]],\n",
              "\n",
              "       [[180, 139,  96],\n",
              "        [173, 123,  42],\n",
              "        [186, 144,  30],\n",
              "        ...,\n",
              "        [184, 148,  94],\n",
              "        [ 97,  62,  34],\n",
              "        [ 83,  53,  34]],\n",
              "\n",
              "       [[177, 144, 116],\n",
              "        [168, 129,  94],\n",
              "        [179, 142,  87],\n",
              "        ...,\n",
              "        [216, 184, 140],\n",
              "        [151, 118,  84],\n",
              "        [123,  92,  72]]], dtype=uint8)</pre></div><script>\n",
              "      (() => {\n",
              "      const titles = ['show data', 'hide data'];\n",
              "      let index = 0\n",
              "      document.querySelector('#id-aee12e4e-36a5-4214-aa5b-e950c0cb08da button').onclick = (e) => {\n",
              "        document.querySelector('#id-aee12e4e-36a5-4214-aa5b-e950c0cb08da').classList.toggle('show_array');\n",
              "        index = (++index) % 2;\n",
              "        document.querySelector('#id-aee12e4e-36a5-4214-aa5b-e950c0cb08da button').textContent = titles[index];\n",
              "        e.preventDefault();\n",
              "        e.stopPropagation();\n",
              "      }\n",
              "      })();\n",
              "    </script>"
            ]
          },
          "metadata": {},
          "execution_count": 6
        }
      ],
      "source": [
        "x_train[0]"
      ]
    },
    {
      "cell_type": "markdown",
      "source": [
        "![image.png](data:image/png;base64,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)"
      ],
      "metadata": {
        "id": "6cCCXxJH6n2K"
      },
      "id": "6cCCXxJH6n2K"
    },
    {
      "cell_type": "code",
      "execution_count": null,
      "id": "5866cca9-1ec4-413b-a9b6-ff68c5cba65a",
      "metadata": {
        "colab": {
          "base_uri": "https://localhost:8080/"
        },
        "id": "5866cca9-1ec4-413b-a9b6-ff68c5cba65a",
        "outputId": "ccd32932-d760-4e8c-9afc-751e837ddf4c"
      },
      "outputs": [
        {
          "output_type": "execute_result",
          "data": {
            "text/plain": [
              "array([6], dtype=uint8)"
            ]
          },
          "metadata": {},
          "execution_count": 7
        }
      ],
      "source": [
        "y_train[0]"
      ]
    },
    {
      "cell_type": "code",
      "execution_count": null,
      "id": "346fc8cf-64df-4905-9521-43b56551a7f1",
      "metadata": {
        "colab": {
          "base_uri": "https://localhost:8080/",
          "height": 455
        },
        "id": "346fc8cf-64df-4905-9521-43b56551a7f1",
        "outputId": "7141e991-3a4c-4e32-e0a8-3e08ad81b719"
      },
      "outputs": [
        {
          "output_type": "execute_result",
          "data": {
            "text/plain": [
              "<matplotlib.image.AxesImage at 0x7ab8d5767e30>"
            ]
          },
          "metadata": {},
          "execution_count": 8
        },
        {
          "output_type": "display_data",
          "data": {
            "text/plain": [
              "<Figure size 480x480 with 1 Axes>"
            ],
            "image/png": "[encoded data removed]"
          },
          "metadata": {}
        }
      ],
      "source": [
        "plt.matshow(x_train[100])"
      ]
    },
    {
      "cell_type": "code",
      "execution_count": null,
      "id": "a064fa97-f992-4ac2-bea4-99d2153708dc",
      "metadata": {
        "colab": {
          "base_uri": "https://localhost:8080/"
        },
        "id": "a064fa97-f992-4ac2-bea4-99d2153708dc",
        "outputId": "7a231c3c-fefb-4b05-94a5-c1980aa67e31"
      },
      "outputs": [
        {
          "output_type": "execute_result",
          "data": {
            "text/plain": [
              "np.uint8(5)"
            ]
          },
          "metadata": {},
          "execution_count": 9
        }
      ],
      "source": [
        "y_train[100]"
      ]
    },
    {
      "cell_type": "code",
      "execution_count": null,
      "id": "0d0144a3-9cad-42f0-8f10-cea465563cfd",
      "metadata": {
        "id": "0d0144a3-9cad-42f0-8f10-cea465563cfd"
      },
      "outputs": [],
      "source": [
        "x_train=x_train/255\n",
        "x_test=x_test/255"
      ]
    },
    {
      "cell_type": "code",
      "execution_count": null,
      "id": "78ff230b-5222-4df4-999c-d23020024d56",
      "metadata": {
        "id": "78ff230b-5222-4df4-999c-d23020024d56",
        "colab": {
          "base_uri": "https://localhost:8080/"
        },
        "outputId": "65d296a1-74b8-486a-a58a-81fb06963f45"
      },
      "outputs": [
        {
          "output_type": "execute_result",
          "data": {
            "text/plain": [
              "array([[0.        , 0.        , 0.        , 0.        , 0.        ,\n",
              "        0.        , 0.        , 0.        , 0.        , 0.        ,\n",
              "        0.        , 0.        , 0.        , 0.        , 0.        ,\n",
              "        0.        , 0.        , 0.        , 0.        , 0.        ,\n",
              "        0.        , 0.        , 0.        , 0.        , 0.        ,\n",
              "        0.        , 0.        , 0.        ],\n",
              "       [0.        , 0.        , 0.        , 0.        , 0.        ,\n",
              "        0.        , 0.        , 0.        , 0.        , 0.        ,\n",
              "        0.        , 0.        , 0.        , 0.        , 0.        ,\n",
              "        0.        , 0.        , 0.        , 0.        , 0.        ,\n",
              "        0.        , 0.        , 0.        , 0.        , 0.        ,\n",
              "        0.        , 0.        , 0.        ],\n",
              "       [0.        , 0.        , 0.        , 0.        , 0.        ,\n",
              "        0.        , 0.        , 0.        , 0.        , 0.        ,\n",
              "        0.        , 0.        , 0.        , 0.        , 0.        ,\n",
              "        0.        , 0.        , 0.        , 0.        , 0.        ,\n",
              "        0.        , 0.        , 0.        , 0.        , 0.        ,\n",
              "        0.        , 0.        , 0.        ],\n",
              "       [0.        , 0.        , 0.        , 0.        , 0.        ,\n",
              "        0.        , 0.        , 0.        , 0.        , 0.        ,\n",
              "        0.        , 0.        , 0.        , 0.        , 0.        ,\n",
              "        0.        , 0.        , 0.        , 0.        , 0.        ,\n",
              "        0.        , 0.        , 0.        , 0.        , 0.        ,\n",
              "        0.        , 0.        , 0.        ],\n",
              "       [0.        , 0.        , 0.        , 0.        , 0.        ,\n",
              "        0.        , 0.        , 0.        , 0.        , 0.        ,\n",
              "        0.        , 0.        , 0.        , 0.        , 0.        ,\n",
              "        0.        , 0.        , 0.        , 0.        , 0.        ,\n",
              "        0.        , 0.        , 0.        , 0.        , 0.        ,\n",
              "        0.        , 0.        , 0.        ],\n",
              "       [0.        , 0.        , 0.        , 0.        , 0.        ,\n",
              "        0.        , 0.        , 0.        , 0.        , 0.        ,\n",
              "        0.        , 0.        , 0.01176471, 0.07058824, 0.07058824,\n",
              "        0.07058824, 0.49411765, 0.53333333, 0.68627451, 0.10196078,\n",
              "        0.65098039, 1.        , 0.96862745, 0.49803922, 0.        ,\n",
              "        0.        , 0.        , 0.        ],\n",
              "       [0.        , 0.        , 0.        , 0.        , 0.        ,\n",
              "        0.        , 0.        , 0.        , 0.11764706, 0.14117647,\n",
              "        0.36862745, 0.60392157, 0.66666667, 0.99215686, 0.99215686,\n",
              "        0.99215686, 0.99215686, 0.99215686, 0.88235294, 0.6745098 ,\n",
              "        0.99215686, 0.94901961, 0.76470588, 0.25098039, 0.        ,\n",
              "        0.        , 0.        , 0.        ],\n",
              "       [0.        , 0.        , 0.        , 0.        , 0.        ,\n",
              "        0.        , 0.        , 0.19215686, 0.93333333, 0.99215686,\n",
              "        0.99215686, 0.99215686, 0.99215686, 0.99215686, 0.99215686,\n",
              "        0.99215686, 0.99215686, 0.98431373, 0.36470588, 0.32156863,\n",
              "        0.32156863, 0.21960784, 0.15294118, 0.        , 0.        ,\n",
              "        0.        , 0.        , 0.        ],\n",
              "       [0.        , 0.        , 0.        , 0.        , 0.        ,\n",
              "        0.        , 0.        , 0.07058824, 0.85882353, 0.99215686,\n",
              "        0.99215686, 0.99215686, 0.99215686, 0.99215686, 0.77647059,\n",
              "        0.71372549, 0.96862745, 0.94509804, 0.        , 0.        ,\n",
              "        0.        , 0.        , 0.        , 0.        , 0.        ,\n",
              "        0.        , 0.        , 0.        ],\n",
              "       [0.        , 0.        , 0.        , 0.        , 0.        ,\n",
              "        0.        , 0.        , 0.        , 0.31372549, 0.61176471,\n",
              "        0.41960784, 0.99215686, 0.99215686, 0.80392157, 0.04313725,\n",
              "        0.        , 0.16862745, 0.60392157, 0.        , 0.        ,\n",
              "        0.        , 0.        , 0.        , 0.        , 0.        ,\n",
              "        0.        , 0.        , 0.        ],\n",
              "       [0.        , 0.        , 0.        , 0.        , 0.        ,\n",
              "        0.        , 0.        , 0.        , 0.        , 0.05490196,\n",
              "        0.00392157, 0.60392157, 0.99215686, 0.35294118, 0.        ,\n",
              "        0.        , 0.        , 0.        , 0.        , 0.        ,\n",
              "        0.        , 0.        , 0.        , 0.        , 0.        ,\n",
              "        0.        , 0.        , 0.        ],\n",
              "       [0.        , 0.        , 0.        , 0.        , 0.        ,\n",
              "        0.        , 0.        , 0.        , 0.        , 0.        ,\n",
              "        0.        , 0.54509804, 0.99215686, 0.74509804, 0.00784314,\n",
              "        0.        , 0.        , 0.        , 0.        , 0.        ,\n",
              "        0.        , 0.        , 0.        , 0.        , 0.        ,\n",
              "        0.        , 0.        , 0.        ],\n",
              "       [0.        , 0.        , 0.        , 0.        , 0.        ,\n",
              "        0.        , 0.        , 0.        , 0.        , 0.        ,\n",
              "        0.        , 0.04313725, 0.74509804, 0.99215686, 0.2745098 ,\n",
              "        0.        , 0.        , 0.        , 0.        , 0.        ,\n",
              "        0.        , 0.        , 0.        , 0.        , 0.        ,\n",
              "        0.        , 0.        , 0.        ],\n",
              "       [0.        , 0.        , 0.        , 0.        , 0.        ,\n",
              "        0.        , 0.        , 0.        , 0.        , 0.        ,\n",
              "        0.        , 0.        , 0.1372549 , 0.94509804, 0.88235294,\n",
              "        0.62745098, 0.42352941, 0.00392157, 0.        , 0.        ,\n",
              "        0.        , 0.        , 0.        , 0.        , 0.        ,\n",
              "        0.        , 0.        , 0.        ],\n",
              "       [0.        , 0.        , 0.        , 0.        , 0.        ,\n",
              "        0.        , 0.        , 0.        , 0.        , 0.        ,\n",
              "        0.        , 0.        , 0.        , 0.31764706, 0.94117647,\n",
              "        0.99215686, 0.99215686, 0.46666667, 0.09803922, 0.        ,\n",
              "        0.        , 0.        , 0.        , 0.        , 0.        ,\n",
              "        0.        , 0.        , 0.        ],\n",
              "       [0.        , 0.        , 0.        , 0.        , 0.        ,\n",
              "        0.        , 0.        , 0.        , 0.        , 0.        ,\n",
              "        0.        , 0.        , 0.        , 0.        , 0.17647059,\n",
              "        0.72941176, 0.99215686, 0.99215686, 0.58823529, 0.10588235,\n",
              "        0.        , 0.        , 0.        , 0.        , 0.        ,\n",
              "        0.        , 0.        , 0.        ],\n",
              "       [0.        , 0.        , 0.        , 0.        , 0.        ,\n",
              "        0.        , 0.        , 0.        , 0.        , 0.        ,\n",
              "        0.        , 0.        , 0.        , 0.        , 0.        ,\n",
              "        0.0627451 , 0.36470588, 0.98823529, 0.99215686, 0.73333333,\n",
              "        0.        , 0.        , 0.        , 0.        , 0.        ,\n",
              "        0.        , 0.        , 0.        ],\n",
              "       [0.        , 0.        , 0.        , 0.        , 0.        ,\n",
              "        0.        , 0.        , 0.        , 0.        , 0.        ,\n",
              "        0.        , 0.        , 0.        , 0.        , 0.        ,\n",
              "        0.        , 0.        , 0.97647059, 0.99215686, 0.97647059,\n",
              "        0.25098039, 0.        , 0.        , 0.        , 0.        ,\n",
              "        0.        , 0.        , 0.        ],\n",
              "       [0.        , 0.        , 0.        , 0.        , 0.        ,\n",
              "        0.        , 0.        , 0.        , 0.        , 0.        ,\n",
              "        0.        , 0.        , 0.        , 0.        , 0.18039216,\n",
              "        0.50980392, 0.71764706, 0.99215686, 0.99215686, 0.81176471,\n",
              "        0.00784314, 0.        , 0.        , 0.        , 0.        ,\n",
              "        0.        , 0.        , 0.        ],\n",
              "       [0.        , 0.        , 0.        , 0.        , 0.        ,\n",
              "        0.        , 0.        , 0.        , 0.        , 0.        ,\n",
              "        0.        , 0.        , 0.15294118, 0.58039216, 0.89803922,\n",
              "        0.99215686, 0.99215686, 0.99215686, 0.98039216, 0.71372549,\n",
              "        0.        , 0.        , 0.        , 0.        , 0.        ,\n",
              "        0.        , 0.        , 0.        ],\n",
              "       [0.        , 0.        , 0.        , 0.        , 0.        ,\n",
              "        0.        , 0.        , 0.        , 0.        , 0.        ,\n",
              "        0.09411765, 0.44705882, 0.86666667, 0.99215686, 0.99215686,\n",
              "        0.99215686, 0.99215686, 0.78823529, 0.30588235, 0.        ,\n",
              "        0.        , 0.        , 0.        , 0.        , 0.        ,\n",
              "        0.        , 0.        , 0.        ],\n",
              "       [0.        , 0.        , 0.        , 0.        , 0.        ,\n",
              "        0.        , 0.        , 0.        , 0.09019608, 0.25882353,\n",
              "        0.83529412, 0.99215686, 0.99215686, 0.99215686, 0.99215686,\n",
              "        0.77647059, 0.31764706, 0.00784314, 0.        , 0.        ,\n",
              "        0.        , 0.        , 0.        , 0.        , 0.        ,\n",
              "        0.        , 0.        , 0.        ],\n",
              "       [0.        , 0.        , 0.        , 0.        , 0.        ,\n",
              "        0.        , 0.07058824, 0.67058824, 0.85882353, 0.99215686,\n",
              "        0.99215686, 0.99215686, 0.99215686, 0.76470588, 0.31372549,\n",
              "        0.03529412, 0.        , 0.        , 0.        , 0.        ,\n",
              "        0.        , 0.        , 0.        , 0.        , 0.        ,\n",
              "        0.        , 0.        , 0.        ],\n",
              "       [0.        , 0.        , 0.        , 0.        , 0.21568627,\n",
              "        0.6745098 , 0.88627451, 0.99215686, 0.99215686, 0.99215686,\n",
              "        0.99215686, 0.95686275, 0.52156863, 0.04313725, 0.        ,\n",
              "        0.        , 0.        , 0.        , 0.        , 0.        ,\n",
              "        0.        , 0.        , 0.        , 0.        , 0.        ,\n",
              "        0.        , 0.        , 0.        ],\n",
              "       [0.        , 0.        , 0.        , 0.        , 0.53333333,\n",
              "        0.99215686, 0.99215686, 0.99215686, 0.83137255, 0.52941176,\n",
              "        0.51764706, 0.0627451 , 0.        , 0.        , 0.        ,\n",
              "        0.        , 0.        , 0.        , 0.        , 0.        ,\n",
              "        0.        , 0.        , 0.        , 0.        , 0.        ,\n",
              "        0.        , 0.        , 0.        ],\n",
              "       [0.        , 0.        , 0.        , 0.        , 0.        ,\n",
              "        0.        , 0.        , 0.        , 0.        , 0.        ,\n",
              "        0.        , 0.        , 0.        , 0.        , 0.        ,\n",
              "        0.        , 0.        , 0.        , 0.        , 0.        ,\n",
              "        0.        , 0.        , 0.        , 0.        , 0.        ,\n",
              "        0.        , 0.        , 0.        ],\n",
              "       [0.        , 0.        , 0.        , 0.        , 0.        ,\n",
              "        0.        , 0.        , 0.        , 0.        , 0.        ,\n",
              "        0.        , 0.        , 0.        , 0.        , 0.        ,\n",
              "        0.        , 0.        , 0.        , 0.        , 0.        ,\n",
              "        0.        , 0.        , 0.        , 0.        , 0.        ,\n",
              "        0.        , 0.        , 0.        ],\n",
              "       [0.        , 0.        , 0.        , 0.        , 0.        ,\n",
              "        0.        , 0.        , 0.        , 0.        , 0.        ,\n",
              "        0.        , 0.        , 0.        , 0.        , 0.        ,\n",
              "        0.        , 0.        , 0.        , 0.        , 0.        ,\n",
              "        0.        , 0.        , 0.        , 0.        , 0.        ,\n",
              "        0.        , 0.        , 0.        ]])"
            ]
          },
          "metadata": {},
          "execution_count": 11
        }
      ],
      "source": [
        "x_train[0]"
      ]
    },
    {
      "cell_type": "code",
      "execution_count": null,
      "id": "a4399932-a841-42e2-975a-aa4882d7cf4f",
      "metadata": {
        "id": "a4399932-a841-42e2-975a-aa4882d7cf4f"
      },
      "outputs": [],
      "source": [
        "from tensorflow.keras.models import Sequential\n",
        "from tensorflow.keras.layers import Dense,Activation,Flatten"
      ]
    },
    {
      "cell_type": "code",
      "execution_count": null,
      "id": "fcb022cb-e9b6-4229-8db0-a2cd0b795ea7",
      "metadata": {
        "id": "fcb022cb-e9b6-4229-8db0-a2cd0b795ea7"
      },
      "outputs": [],
      "source": [
        "model=Sequential()"
      ]
    },
    {
      "cell_type": "code",
      "execution_count": null,
      "id": "f15fdb43-d211-423d-8e73-3b37f2683102",
      "metadata": {
        "id": "f15fdb43-d211-423d-8e73-3b37f2683102",
        "colab": {
          "base_uri": "https://localhost:8080/"
        },
        "outputId": "9c3205a5-ee82-47f0-9c2f-fe60bed59282"
      },
      "outputs": [
        {
          "output_type": "stream",
          "name": "stderr",
          "text": [
            "/usr/local/lib/python3.12/dist-packages/keras/src/layers/reshaping/flatten.py:37: UserWarning: Do not pass an `input_shape`/`input_dim` argument to a layer. When using Sequential models, prefer using an `Input(shape)` object as the first layer in the model instead.\n",
            "  super().__init__(**kwargs)\n"
          ]
        }
      ],
      "source": [
        "model.add(Flatten(input_shape=[32,32,3]))\n",
        "model.add(Dense(200,activation=\"relu\"))\n",
        "model.add(Dense(100,activation=\"relu\"))\n",
        "model.add(Dense(10,activation='softmax')) # binary-sigmoid"
      ]
    },
    {
      "cell_type": "code",
      "execution_count": null,
      "id": "6be82c06-bcdd-4cb1-9d85-43d80943c58b",
      "metadata": {
        "colab": {
          "base_uri": "https://localhost:8080/",
          "height": 265
        },
        "id": "6be82c06-bcdd-4cb1-9d85-43d80943c58b",
        "outputId": "637b3e60-b379-4d18-d985-1efa0f8a6814"
      },
      "outputs": [
        {
          "output_type": "display_data",
          "data": {
            "text/plain": [
              "\u001b[1mModel: \"sequential\"\u001b[0m\n"
            ],
            "text/html": [
              "<pre style=\"white-space:pre;overflow-x:auto;line-height:normal;font-family:Menlo,'DejaVu Sans Mono',consolas,'Courier New',monospace\"><span style=\"font-weight: bold\">Model: \"sequential\"</span>\n",
              "</pre>\n"
            ]
          },
          "metadata": {}
        },
        {
          "output_type": "display_data",
          "data": {
            "text/plain": [
              "┏━━━━━━━━━━━━━━━━━━━━━━━━━━━━━━━━━┳━━━━━━━━━━━━━━━━━━━━━━━━┳━━━━━━━━━━━━━━━┓\n",
              "┃\u001b[1m \u001b[0m\u001b[1mLayer (type)                   \u001b[0m\u001b[1m \u001b[0m┃\u001b[1m \u001b[0m\u001b[1mOutput Shape          \u001b[0m\u001b[1m \u001b[0m┃\u001b[1m \u001b[0m\u001b[1m      Param #\u001b[0m\u001b[1m \u001b[0m┃\n",
              "┡━━━━━━━━━━━━━━━━━━━━━━━━━━━━━━━━━╇━━━━━━━━━━━━━━━━━━━━━━━━╇━━━━━━━━━━━━━━━┩\n",
              "│ flatten (\u001b[38;5;33mFlatten\u001b[0m)               │ (\u001b[38;5;45mNone\u001b[0m, \u001b[38;5;34m784\u001b[0m)            │             \u001b[38;5;34m0\u001b[0m │\n",
              "├─────────────────────────────────┼────────────────────────┼───────────────┤\n",
              "│ dense (\u001b[38;5;33mDense\u001b[0m)                   │ (\u001b[38;5;45mNone\u001b[0m, \u001b[38;5;34m200\u001b[0m)            │       \u001b[38;5;34m157,000\u001b[0m │\n",
              "├─────────────────────────────────┼────────────────────────┼───────────────┤\n",
              "│ dense_1 (\u001b[38;5;33mDense\u001b[0m)                 │ (\u001b[38;5;45mNone\u001b[0m, \u001b[38;5;34m100\u001b[0m)            │        \u001b[38;5;34m20,100\u001b[0m │\n",
              "├─────────────────────────────────┼────────────────────────┼───────────────┤\n",
              "│ dense_2 (\u001b[38;5;33mDense\u001b[0m)                 │ (\u001b[38;5;45mNone\u001b[0m, \u001b[38;5;34m10\u001b[0m)             │         \u001b[38;5;34m1,010\u001b[0m │\n",
              "└─────────────────────────────────┴────────────────────────┴───────────────┘\n"
            ],
            "text/html": [
              "<pre style=\"white-space:pre;overflow-x:auto;line-height:normal;font-family:Menlo,'DejaVu Sans Mono',consolas,'Courier New',monospace\">┏━━━━━━━━━━━━━━━━━━━━━━━━━━━━━━━━━┳━━━━━━━━━━━━━━━━━━━━━━━━┳━━━━━━━━━━━━━━━┓\n",
              "┃<span style=\"font-weight: bold\"> Layer (type)                    </span>┃<span style=\"font-weight: bold\"> Output Shape           </span>┃<span style=\"font-weight: bold\">       Param # </span>┃\n",
              "┡━━━━━━━━━━━━━━━━━━━━━━━━━━━━━━━━━╇━━━━━━━━━━━━━━━━━━━━━━━━╇━━━━━━━━━━━━━━━┩\n",
              "│ flatten (<span style=\"color: #0087ff; text-decoration-color: #0087ff\">Flatten</span>)               │ (<span style=\"color: #00d7ff; text-decoration-color: #00d7ff\">None</span>, <span style=\"color: #00af00; text-decoration-color: #00af00\">784</span>)            │             <span style=\"color: #00af00; text-decoration-color: #00af00\">0</span> │\n",
              "├─────────────────────────────────┼────────────────────────┼───────────────┤\n",
              "│ dense (<span style=\"color: #0087ff; text-decoration-color: #0087ff\">Dense</span>)                   │ (<span style=\"color: #00d7ff; text-decoration-color: #00d7ff\">None</span>, <span style=\"color: #00af00; text-decoration-color: #00af00\">200</span>)            │       <span style=\"color: #00af00; text-decoration-color: #00af00\">157,000</span> │\n",
              "├─────────────────────────────────┼────────────────────────┼───────────────┤\n",
              "│ dense_1 (<span style=\"color: #0087ff; text-decoration-color: #0087ff\">Dense</span>)                 │ (<span style=\"color: #00d7ff; text-decoration-color: #00d7ff\">None</span>, <span style=\"color: #00af00; text-decoration-color: #00af00\">100</span>)            │        <span style=\"color: #00af00; text-decoration-color: #00af00\">20,100</span> │\n",
              "├─────────────────────────────────┼────────────────────────┼───────────────┤\n",
              "│ dense_2 (<span style=\"color: #0087ff; text-decoration-color: #0087ff\">Dense</span>)                 │ (<span style=\"color: #00d7ff; text-decoration-color: #00d7ff\">None</span>, <span style=\"color: #00af00; text-decoration-color: #00af00\">10</span>)             │         <span style=\"color: #00af00; text-decoration-color: #00af00\">1,010</span> │\n",
              "└─────────────────────────────────┴────────────────────────┴───────────────┘\n",
              "</pre>\n"
            ]
          },
          "metadata": {}
        },
        {
          "output_type": "display_data",
          "data": {
            "text/plain": [
              "\u001b[1m Total params: \u001b[0m\u001b[38;5;34m178,110\u001b[0m (695.74 KB)\n"
            ],
            "text/html": [
              "<pre style=\"white-space:pre;overflow-x:auto;line-height:normal;font-family:Menlo,'DejaVu Sans Mono',consolas,'Courier New',monospace\"><span style=\"font-weight: bold\"> Total params: </span><span style=\"color: #00af00; text-decoration-color: #00af00\">178,110</span> (695.74 KB)\n",
              "</pre>\n"
            ]
          },
          "metadata": {}
        },
        {
          "output_type": "display_data",
          "data": {
            "text/plain": [
              "\u001b[1m Trainable params: \u001b[0m\u001b[38;5;34m178,110\u001b[0m (695.74 KB)\n"
            ],
            "text/html": [
              "<pre style=\"white-space:pre;overflow-x:auto;line-height:normal;font-family:Menlo,'DejaVu Sans Mono',consolas,'Courier New',monospace\"><span style=\"font-weight: bold\"> Trainable params: </span><span style=\"color: #00af00; text-decoration-color: #00af00\">178,110</span> (695.74 KB)\n",
              "</pre>\n"
            ]
          },
          "metadata": {}
        },
        {
          "output_type": "display_data",
          "data": {
            "text/plain": [
              "\u001b[1m Non-trainable params: \u001b[0m\u001b[38;5;34m0\u001b[0m (0.00 B)\n"
            ],
            "text/html": [
              "<pre style=\"white-space:pre;overflow-x:auto;line-height:normal;font-family:Menlo,'DejaVu Sans Mono',consolas,'Courier New',monospace\"><span style=\"font-weight: bold\"> Non-trainable params: </span><span style=\"color: #00af00; text-decoration-color: #00af00\">0</span> (0.00 B)\n",
              "</pre>\n"
            ]
          },
          "metadata": {}
        }
      ],
      "source": [
        "model.summary()"
      ]
    },
    {
      "cell_type": "code",
      "execution_count": null,
      "id": "e85eadab-ab13-4adf-9711-07d3c75a7eb5",
      "metadata": {
        "id": "e85eadab-ab13-4adf-9711-07d3c75a7eb5"
      },
      "outputs": [],
      "source": [
        "model.compile(optimizer='adam',loss=\"sparse_categorical_crossentropy\",metrics=[\"accuracy\"])"
      ]
    },
    {
      "cell_type": "code",
      "execution_count": null,
      "id": "e74fad40-430d-44a3-a725-6e984c8f0e56",
      "metadata": {
        "colab": {
          "base_uri": "https://localhost:8080/"
        },
        "id": "e74fad40-430d-44a3-a725-6e984c8f0e56",
        "outputId": "4bd2fc08-0e68-4608-a374-a1563ca6b69c"
      },
      "outputs": [
        {
          "output_type": "stream",
          "name": "stdout",
          "text": [
            "Epoch 1/20\n",
            "\u001b[1m1875/1875\u001b[0m \u001b[32m━━━━━━━━━━━━━━━━━━━━\u001b[0m\u001b[37m\u001b[0m \u001b[1m27s\u001b[0m 13ms/step - accuracy: 0.8900 - loss: 0.3743\n",
            "Epoch 2/20\n",
            "\u001b[1m1875/1875\u001b[0m \u001b[32m━━━━━━━━━━━━━━━━━━━━\u001b[0m\u001b[37m\u001b[0m \u001b[1m25s\u001b[0m 13ms/step - accuracy: 0.9710 - loss: 0.0889\n",
            "Epoch 3/20\n",
            "\u001b[1m1875/1875\u001b[0m \u001b[32m━━━━━━━━━━━━━━━━━━━━\u001b[0m\u001b[37m\u001b[0m \u001b[1m28s\u001b[0m 6ms/step - accuracy: 0.9817 - loss: 0.0582\n",
            "Epoch 4/20\n",
            "\u001b[1m1875/1875\u001b[0m \u001b[32m━━━━━━━━━━━━━━━━━━━━\u001b[0m\u001b[37m\u001b[0m \u001b[1m11s\u001b[0m 6ms/step - accuracy: 0.9860 - loss: 0.0441\n",
            "Epoch 5/20\n",
            "\u001b[1m1875/1875\u001b[0m \u001b[32m━━━━━━━━━━━━━━━━━━━━\u001b[0m\u001b[37m\u001b[0m \u001b[1m12s\u001b[0m 6ms/step - accuracy: 0.9894 - loss: 0.0341\n",
            "Epoch 6/20\n",
            "\u001b[1m1875/1875\u001b[0m \u001b[32m━━━━━━━━━━━━━━━━━━━━\u001b[0m\u001b[37m\u001b[0m \u001b[1m10s\u001b[0m 5ms/step - accuracy: 0.9911 - loss: 0.0286\n",
            "Epoch 7/20\n",
            "\u001b[1m1875/1875\u001b[0m \u001b[32m━━━━━━━━━━━━━━━━━━━━\u001b[0m\u001b[37m\u001b[0m \u001b[1m12s\u001b[0m 6ms/step - accuracy: 0.9933 - loss: 0.0198\n",
            "Epoch 8/20\n",
            "\u001b[1m1875/1875\u001b[0m \u001b[32m━━━━━━━━━━━━━━━━━━━━\u001b[0m\u001b[37m\u001b[0m \u001b[1m11s\u001b[0m 6ms/step - accuracy: 0.9931 - loss: 0.0203\n",
            "Epoch 9/20\n",
            "\u001b[1m1875/1875\u001b[0m \u001b[32m━━━━━━━━━━━━━━━━━━━━\u001b[0m\u001b[37m\u001b[0m \u001b[1m14s\u001b[0m 8ms/step - accuracy: 0.9938 - loss: 0.0176\n",
            "Epoch 10/20\n",
            "\u001b[1m1875/1875\u001b[0m \u001b[32m━━━━━━━━━━━━━━━━━━━━\u001b[0m\u001b[37m\u001b[0m \u001b[1m19s\u001b[0m 7ms/step - accuracy: 0.9953 - loss: 0.0154\n",
            "Epoch 11/20\n",
            "\u001b[1m1875/1875\u001b[0m \u001b[32m━━━━━━━━━━━━━━━━━━━━\u001b[0m\u001b[37m\u001b[0m \u001b[1m11s\u001b[0m 6ms/step - accuracy: 0.9960 - loss: 0.0120\n",
            "Epoch 12/20\n",
            "\u001b[1m1875/1875\u001b[0m \u001b[32m━━━━━━━━━━━━━━━━━━━━\u001b[0m\u001b[37m\u001b[0m \u001b[1m11s\u001b[0m 6ms/step - accuracy: 0.9960 - loss: 0.0127\n",
            "Epoch 13/20\n",
            "\u001b[1m1875/1875\u001b[0m \u001b[32m━━━━━━━━━━━━━━━━━━━━\u001b[0m\u001b[37m\u001b[0m \u001b[1m11s\u001b[0m 6ms/step - accuracy: 0.9965 - loss: 0.0104\n",
            "Epoch 14/20\n",
            "\u001b[1m1875/1875\u001b[0m \u001b[32m━━━━━━━━━━━━━━━━━━━━\u001b[0m\u001b[37m\u001b[0m \u001b[1m12s\u001b[0m 6ms/step - accuracy: 0.9964 - loss: 0.0109\n",
            "Epoch 15/20\n",
            "\u001b[1m1875/1875\u001b[0m \u001b[32m━━━━━━━━━━━━━━━━━━━━\u001b[0m\u001b[37m\u001b[0m \u001b[1m11s\u001b[0m 6ms/step - accuracy: 0.9965 - loss: 0.0109\n",
            "Epoch 16/20\n",
            "\u001b[1m1875/1875\u001b[0m \u001b[32m━━━━━━━━━━━━━━━━━━━━\u001b[0m\u001b[37m\u001b[0m \u001b[1m11s\u001b[0m 6ms/step - accuracy: 0.9972 - loss: 0.0090\n",
            "Epoch 17/20\n",
            "\u001b[1m1875/1875\u001b[0m \u001b[32m━━━━━━━━━━━━━━━━━━━━\u001b[0m\u001b[37m\u001b[0m \u001b[1m12s\u001b[0m 7ms/step - accuracy: 0.9974 - loss: 0.0081\n",
            "Epoch 18/20\n",
            "\u001b[1m1875/1875\u001b[0m \u001b[32m━━━━━━━━━━━━━━━━━━━━\u001b[0m\u001b[37m\u001b[0m \u001b[1m11s\u001b[0m 6ms/step - accuracy: 0.9970 - loss: 0.0108\n",
            "Epoch 19/20\n",
            "\u001b[1m1875/1875\u001b[0m \u001b[32m━━━━━━━━━━━━━━━━━━━━\u001b[0m\u001b[37m\u001b[0m \u001b[1m21s\u001b[0m 6ms/step - accuracy: 0.9977 - loss: 0.0074\n",
            "Epoch 20/20\n",
            "\u001b[1m1875/1875\u001b[0m \u001b[32m━━━━━━━━━━━━━━━━━━━━\u001b[0m\u001b[37m\u001b[0m \u001b[1m23s\u001b[0m 7ms/step - accuracy: 0.9978 - loss: 0.0078\n"
          ]
        },
        {
          "output_type": "execute_result",
          "data": {
            "text/plain": [
              "<keras.src.callbacks.history.History at 0x7ab8d5cd0fe0>"
            ]
          },
          "metadata": {},
          "execution_count": 17
        }
      ],
      "source": [
        "model.fit(x_train,y_train,epochs=20)"
      ]
    },
    {
      "cell_type": "code",
      "execution_count": null,
      "id": "ac2f91ee-67a9-4aab-afa6-ba8f2e19eae8",
      "metadata": {
        "colab": {
          "base_uri": "https://localhost:8080/"
        },
        "id": "ac2f91ee-67a9-4aab-afa6-ba8f2e19eae8",
        "outputId": "d3b64472-ccfa-40e8-fd78-ae98b94702e6"
      },
      "outputs": [
        {
          "output_type": "stream",
          "name": "stdout",
          "text": [
            "\u001b[1m313/313\u001b[0m \u001b[32m━━━━━━━━━━━━━━━━━━━━\u001b[0m\u001b[37m\u001b[0m \u001b[1m1s\u001b[0m 2ms/step\n"
          ]
        }
      ],
      "source": [
        "y_predict=model.predict(x_test)"
      ]
    },
    {
      "cell_type": "code",
      "source": [
        "plt.matshow(x_test[217])"
      ],
      "metadata": {
        "id": "JcNijl09zEQp",
        "outputId": "cd76b778-9eb1-4f3e-83ba-db0f959741f4",
        "colab": {
          "base_uri": "https://localhost:8080/",
          "height": 455
        }
      },
      "id": "JcNijl09zEQp",
      "execution_count": null,
      "outputs": [
        {
          "output_type": "execute_result",
          "data": {
            "text/plain": [
              "<matplotlib.image.AxesImage at 0x7ab8d21b19a0>"
            ]
          },
          "metadata": {},
          "execution_count": 19
        },
        {
          "output_type": "display_data",
          "data": {
            "text/plain": [
              "<Figure size 480x480 with 1 Axes>"
            ],
            "image/png": "[encoded data removed]"
          },
          "metadata": {}
        }
      ]
    },
    {
      "cell_type": "code",
      "execution_count": null,
      "id": "8043cbea-b76f-4e3b-b346-10530011c3b5",
      "metadata": {
        "colab": {
          "base_uri": "https://localhost:8080/"
        },
        "id": "8043cbea-b76f-4e3b-b346-10530011c3b5",
        "outputId": "9db5e4e0-2628-4cbc-f873-e071939b8971"
      },
      "outputs": [
        {
          "output_type": "execute_result",
          "data": {
            "text/plain": [
              "array([2.0219382e-09, 6.4265589e-18, 1.6992163e-17, 3.8462836e-17,\n",
              "       1.5073333e-20, 5.2071810e-03, 9.9479276e-01, 1.0986307e-22,\n",
              "       1.6432478e-12, 1.2614971e-19], dtype=float32)"
            ]
          },
          "metadata": {},
          "execution_count": 20
        }
      ],
      "source": [
        "y_predict[217]"
      ]
    },
    {
      "cell_type": "code",
      "execution_count": null,
      "id": "414ab2cc-7a88-43d9-afba-b998ce71f6e8",
      "metadata": {
        "colab": {
          "base_uri": "https://localhost:8080/"
        },
        "id": "414ab2cc-7a88-43d9-afba-b998ce71f6e8",
        "outputId": "e37071d4-9752-4c9d-f1e9-9081e7013c64"
      },
      "outputs": [
        {
          "output_type": "execute_result",
          "data": {
            "text/plain": [
              "np.int64(6)"
            ]
          },
          "metadata": {},
          "execution_count": 21
        }
      ],
      "source": [
        "np.argmax(y_predict[217])"
      ]
    },
    {
      "cell_type": "code",
      "source": [
        "pip install llama-cpp-python\n"
      ],
      "metadata": {
        "colab": {
          "base_uri": "https://localhost:8080/"
        },
        "id": "Y9ra6yBlIQvP",
        "outputId": "89740521-ee40-4b09-b950-2680735ca335"
      },
      "id": "Y9ra6yBlIQvP",
      "execution_count": null,
      "outputs": [
        {
          "output_type": "stream",
          "name": "stdout",
          "text": [
            "Collecting llama-cpp-python\n",
            "  Downloading llama_cpp_python-0.3.16.tar.gz (50.7 MB)\n",
            "\u001b[2K     \u001b[90m━━━━━━━━━━━━━━━━━━━━━━━━━━━━━━━━━━━━━━━━\u001b[0m \u001b[32m50.7/50.7 MB\u001b[0m \u001b[31m13.2 MB/s\u001b[0m eta \u001b[36m0:00:00\u001b[0m\n",
            "\u001b[?25h  Installing build dependencies ... \u001b[?25l\u001b[?25hdone\n",
            "  Getting requirements to build wheel ... \u001b[?25l\u001b[?25hdone\n",
            "  Installing backend dependencies ... \u001b[?25l\u001b[?25hdone\n",
            "  Preparing metadata (pyproject.toml) ... \u001b[?25l\u001b[?25hdone\n",
            "Requirement already satisfied: typing-extensions>=4.5.0 in /usr/local/lib/python3.12/dist-packages (from llama-cpp-python) (4.15.0)\n",
            "Requirement already satisfied: numpy>=1.20.0 in /usr/local/lib/python3.12/dist-packages (from llama-cpp-python) (2.0.2)\n",
            "Collecting diskcache>=5.6.1 (from llama-cpp-python)\n",
            "  Downloading diskcache-5.6.3-py3-none-any.whl.metadata (20 kB)\n",
            "Requirement already satisfied: jinja2>=2.11.3 in /usr/local/lib/python3.12/dist-packages (from llama-cpp-python) (3.1.6)\n",
            "Requirement already satisfied: MarkupSafe>=2.0 in /usr/local/lib/python3.12/dist-packages (from jinja2>=2.11.3->llama-cpp-python) (3.0.3)\n",
            "Downloading diskcache-5.6.3-py3-none-any.whl (45 kB)\n",
            "\u001b[2K   \u001b[90m━━━━━━━━━━━━━━━━━━━━━━━━━━━━━━━━━━━━━━━━\u001b[0m \u001b[32m45.5/45.5 kB\u001b[0m \u001b[31m2.9 MB/s\u001b[0m eta \u001b[36m0:00:00\u001b[0m\n",
            "\u001b[?25hBuilding wheels for collected packages: llama-cpp-python\n",
            "  Building wheel for llama-cpp-python (pyproject.toml) ... \u001b[?25l\u001b[?25hcanceled\u001b[31mERROR: Operation cancelled by user\u001b[0m\u001b[31m\n",
            "\u001b[0m^C\n"
          ]
        }
      ]
    },
    {
      "cell_type": "code",
      "source": [
        "### The performance dep upon the dataset\n",
        "### greyscale-> 93%-99%\n",
        "### color-> Neural network-> 70%\n",
        "\n",
        "#### CNN,RNN,LSTM"
      ],
      "metadata": {
        "id": "Dl_D0XvNIhy-"
      },
      "id": "Dl_D0XvNIhy-",
      "execution_count": null,
      "outputs": []
    }
  ],
  "metadata": {
    "kernelspec": {
      "display_name": "Python 3 (ipykernel)",
      "language": "python",
      "name": "python3"
    },
    "language_info": {
      "codemirror_mode": {
        "name": "ipython",
        "version": 3
      },
      "file_extension": ".py",
      "mimetype": "text/x-python",
      "name": "python",
      "nbconvert_exporter": "python",
      "pygments_lexer": "ipython3",
      "version": "3.11.7"
    },
    "colab": {
      "provenance": []
    }
  },
  "nbformat": 4,
  "nbformat_minor": 5
}