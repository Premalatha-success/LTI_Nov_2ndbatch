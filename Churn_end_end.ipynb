{
  "nbformat": 4,
  "nbformat_minor": 0,
  "metadata": {
    "colab": {
      "provenance": []
    },
    "kernelspec": {
      "name": "python3",
      "display_name": "Python 3"
    },
    "language_info": {
      "name": "python"
    }
  },
  "cells": [
    {
      "cell_type": "code",
      "source": [
        "import numpy as np\n",
        "import pandas as pd\n",
        "import matplotlib.pyplot as plt\n",
        "import seaborn as sns\n",
        "import warnings\n",
        "warnings.filterwarnings('ignore')"
      ],
      "metadata": {
        "id": "qdDdVlgDgQ4T"
      },
      "execution_count": 2,
      "outputs": []
    },
    {
      "cell_type": "code",
      "source": [
        "df=pd.read_csv(\"https://raw.githubusercontent.com/Premalatha-success/Datasets/refs/heads/main/Churn_Modelling.csv\")"
      ],
      "metadata": {
        "id": "XTlVNGUGgcmn"
      },
      "execution_count": 3,
      "outputs": []
    },
    {
      "cell_type": "code",
      "source": [
        "df.sample(10)"
      ],
      "metadata": {
        "colab": {
          "base_uri": "https://localhost:8080/",
          "height": 382
        },
        "id": "w7xTwHZtgiwT",
        "outputId": "a09c486c-0f91-46ac-fcad-a1165467f0f7"
      },
      "execution_count": 4,
      "outputs": [
        {
          "output_type": "execute_result",
          "data": {
            "text/plain": [
              "      RowNumber  CustomerId        Surname  CreditScore Geography  Gender  \\\n",
              "3413       3414    15627412          Ferri          605    France    Male   \n",
              "6767       6768    15654964         Piccio          608     Spain    Male   \n",
              "7300       7301    15788224      Sanderson          669   Germany    Male   \n",
              "4370       4371    15740470     Vinogradov          725    France    Male   \n",
              "9036       9037    15603378       Padovano          768    France  Female   \n",
              "534         535    15567832           Shih          550    France  Female   \n",
              "4191       4192    15715597  Onyemauchechi          679    France    Male   \n",
              "6395       6396    15707918        Bentley          741   Germany  Female   \n",
              "8413       8414    15597309         Howell          749     Spain    Male   \n",
              "2683       2684    15739046        Maggard          850     Spain  Female   \n",
              "\n",
              "      Age  Tenure    Balance  NumOfProducts  HasCrCard  IsActiveMember  \\\n",
              "3413   39       3       0.00              2          1               0   \n",
              "6767   48       7   75801.74              1          1               0   \n",
              "7300   45       1  123949.75              1          0               0   \n",
              "4370   39       4  160652.45              2          1               0   \n",
              "9036   36       3  141334.95              1          0               1   \n",
              "534    40       7  114354.95              1          1               0   \n",
              "4191   36       1   97234.58              1          1               0   \n",
              "6395   36       0  127675.39              2          1               0   \n",
              "8413   36       7       0.00              2          0               0   \n",
              "2683   23       9  143054.85              1          0               1   \n",
              "\n",
              "      EstimatedSalary  Exited  \n",
              "3413        199390.45       0  \n",
              "6767        125762.95       0  \n",
              "7300        110881.56       0  \n",
              "4370         57643.55       0  \n",
              "9036        125870.50       0  \n",
              "534          54018.93       0  \n",
              "4191        188997.08       0  \n",
              "6395         74260.16       0  \n",
              "8413         80134.65       0  \n",
              "2683         62980.96       0  "
            ],
            "text/html": [
              "\n",
              "  <div id=\"df-ba1515ea-fc1e-4a3e-98ae-18896d99cf5f\" class=\"colab-df-container\">\n",
              "    <div>\n",
              "<style scoped>\n",
              "    .dataframe tbody tr th:only-of-type {\n",
              "        vertical-align: middle;\n",
              "    }\n",
              "\n",
              "    .dataframe tbody tr th {\n",
              "        vertical-align: top;\n",
              "    }\n",
              "\n",
              "    .dataframe thead th {\n",
              "        text-align: right;\n",
              "    }\n",
              "</style>\n",
              "<table border=\"1\" class=\"dataframe\">\n",
              "  <thead>\n",
              "    <tr style=\"text-align: right;\">\n",
              "      <th></th>\n",
              "      <th>RowNumber</th>\n",
              "      <th>CustomerId</th>\n",
              "      <th>Surname</th>\n",
              "      <th>CreditScore</th>\n",
              "      <th>Geography</th>\n",
              "      <th>Gender</th>\n",
              "      <th>Age</th>\n",
              "      <th>Tenure</th>\n",
              "      <th>Balance</th>\n",
              "      <th>NumOfProducts</th>\n",
              "      <th>HasCrCard</th>\n",
              "      <th>IsActiveMember</th>\n",
              "      <th>EstimatedSalary</th>\n",
              "      <th>Exited</th>\n",
              "    </tr>\n",
              "  </thead>\n",
              "  <tbody>\n",
              "    <tr>\n",
              "      <th>3413</th>\n",
              "      <td>3414</td>\n",
              "      <td>15627412</td>\n",
              "      <td>Ferri</td>\n",
              "      <td>605</td>\n",
              "      <td>France</td>\n",
              "      <td>Male</td>\n",
              "      <td>39</td>\n",
              "      <td>3</td>\n",
              "      <td>0.00</td>\n",
              "      <td>2</td>\n",
              "      <td>1</td>\n",
              "      <td>0</td>\n",
              "      <td>199390.45</td>\n",
              "      <td>0</td>\n",
              "    </tr>\n",
              "    <tr>\n",
              "      <th>6767</th>\n",
              "      <td>6768</td>\n",
              "      <td>15654964</td>\n",
              "      <td>Piccio</td>\n",
              "      <td>608</td>\n",
              "      <td>Spain</td>\n",
              "      <td>Male</td>\n",
              "      <td>48</td>\n",
              "      <td>7</td>\n",
              "      <td>75801.74</td>\n",
              "      <td>1</td>\n",
              "      <td>1</td>\n",
              "      <td>0</td>\n",
              "      <td>125762.95</td>\n",
              "      <td>0</td>\n",
              "    </tr>\n",
              "    <tr>\n",
              "      <th>7300</th>\n",
              "      <td>7301</td>\n",
              "      <td>15788224</td>\n",
              "      <td>Sanderson</td>\n",
              "      <td>669</td>\n",
              "      <td>Germany</td>\n",
              "      <td>Male</td>\n",
              "      <td>45</td>\n",
              "      <td>1</td>\n",
              "      <td>123949.75</td>\n",
              "      <td>1</td>\n",
              "      <td>0</td>\n",
              "      <td>0</td>\n",
              "      <td>110881.56</td>\n",
              "      <td>0</td>\n",
              "    </tr>\n",
              "    <tr>\n",
              "      <th>4370</th>\n",
              "      <td>4371</td>\n",
              "      <td>15740470</td>\n",
              "      <td>Vinogradov</td>\n",
              "      <td>725</td>\n",
              "      <td>France</td>\n",
              "      <td>Male</td>\n",
              "      <td>39</td>\n",
              "      <td>4</td>\n",
              "      <td>160652.45</td>\n",
              "      <td>2</td>\n",
              "      <td>1</td>\n",
              "      <td>0</td>\n",
              "      <td>57643.55</td>\n",
              "      <td>0</td>\n",
              "    </tr>\n",
              "    <tr>\n",
              "      <th>9036</th>\n",
              "      <td>9037</td>\n",
              "      <td>15603378</td>\n",
              "      <td>Padovano</td>\n",
              "      <td>768</td>\n",
              "      <td>France</td>\n",
              "      <td>Female</td>\n",
              "      <td>36</td>\n",
              "      <td>3</td>\n",
              "      <td>141334.95</td>\n",
              "      <td>1</td>\n",
              "      <td>0</td>\n",
              "      <td>1</td>\n",
              "      <td>125870.50</td>\n",
              "      <td>0</td>\n",
              "    </tr>\n",
              "    <tr>\n",
              "      <th>534</th>\n",
              "      <td>535</td>\n",
              "      <td>15567832</td>\n",
              "      <td>Shih</td>\n",
              "      <td>550</td>\n",
              "      <td>France</td>\n",
              "      <td>Female</td>\n",
              "      <td>40</td>\n",
              "      <td>7</td>\n",
              "      <td>114354.95</td>\n",
              "      <td>1</td>\n",
              "      <td>1</td>\n",
              "      <td>0</td>\n",
              "      <td>54018.93</td>\n",
              "      <td>0</td>\n",
              "    </tr>\n",
              "    <tr>\n",
              "      <th>4191</th>\n",
              "      <td>4192</td>\n",
              "      <td>15715597</td>\n",
              "      <td>Onyemauchechi</td>\n",
              "      <td>679</td>\n",
              "      <td>France</td>\n",
              "      <td>Male</td>\n",
              "      <td>36</td>\n",
              "      <td>1</td>\n",
              "      <td>97234.58</td>\n",
              "      <td>1</td>\n",
              "      <td>1</td>\n",
              "      <td>0</td>\n",
              "      <td>188997.08</td>\n",
              "      <td>0</td>\n",
              "    </tr>\n",
              "    <tr>\n",
              "      <th>6395</th>\n",
              "      <td>6396</td>\n",
              "      <td>15707918</td>\n",
              "      <td>Bentley</td>\n",
              "      <td>741</td>\n",
              "      <td>Germany</td>\n",
              "      <td>Female</td>\n",
              "      <td>36</td>\n",
              "      <td>0</td>\n",
              "      <td>127675.39</td>\n",
              "      <td>2</td>\n",
              "      <td>1</td>\n",
              "      <td>0</td>\n",
              "      <td>74260.16</td>\n",
              "      <td>0</td>\n",
              "    </tr>\n",
              "    <tr>\n",
              "      <th>8413</th>\n",
              "      <td>8414</td>\n",
              "      <td>15597309</td>\n",
              "      <td>Howell</td>\n",
              "      <td>749</td>\n",
              "      <td>Spain</td>\n",
              "      <td>Male</td>\n",
              "      <td>36</td>\n",
              "      <td>7</td>\n",
              "      <td>0.00</td>\n",
              "      <td>2</td>\n",
              "      <td>0</td>\n",
              "      <td>0</td>\n",
              "      <td>80134.65</td>\n",
              "      <td>0</td>\n",
              "    </tr>\n",
              "    <tr>\n",
              "      <th>2683</th>\n",
              "      <td>2684</td>\n",
              "      <td>15739046</td>\n",
              "      <td>Maggard</td>\n",
              "      <td>850</td>\n",
              "      <td>Spain</td>\n",
              "      <td>Female</td>\n",
              "      <td>23</td>\n",
              "      <td>9</td>\n",
              "      <td>143054.85</td>\n",
              "      <td>1</td>\n",
              "      <td>0</td>\n",
              "      <td>1</td>\n",
              "      <td>62980.96</td>\n",
              "      <td>0</td>\n",
              "    </tr>\n",
              "  </tbody>\n",
              "</table>\n",
              "</div>\n",
              "    <div class=\"colab-df-buttons\">\n",
              "\n",
              "  <div class=\"colab-df-container\">\n",
              "    <button class=\"colab-df-convert\" onclick=\"convertToInteractive('df-ba1515ea-fc1e-4a3e-98ae-18896d99cf5f')\"\n",
              "            title=\"Convert this dataframe to an interactive table.\"\n",
              "            style=\"display:none;\">\n",
              "\n",
              "  <svg xmlns=\"http://www.w3.org/2000/svg\" height=\"24px\" viewBox=\"0 -960 960 960\">\n",
              "    <path d=\"M120-120v-720h720v720H120Zm60-500h600v-160H180v160Zm220 220h160v-160H400v160Zm0 220h160v-160H400v160ZM180-400h160v-160H180v160Zm440 0h160v-160H620v160ZM180-180h160v-160H180v160Zm440 0h160v-160H620v160Z\"/>\n",
              "  </svg>\n",
              "    </button>\n",
              "\n",
              "  <style>\n",
              "    .colab-df-container {\n",
              "      display:flex;\n",
              "      gap: 12px;\n",
              "    }\n",
              "\n",
              "    .colab-df-convert {\n",
              "      background-color: #E8F0FE;\n",
              "      border: none;\n",
              "      border-radius: 50%;\n",
              "      cursor: pointer;\n",
              "      display: none;\n",
              "      fill: #1967D2;\n",
              "      height: 32px;\n",
              "      padding: 0 0 0 0;\n",
              "      width: 32px;\n",
              "    }\n",
              "\n",
              "    .colab-df-convert:hover {\n",
              "      background-color: #E2EBFA;\n",
              "      box-shadow: 0px 1px 2px rgba(60, 64, 67, 0.3), 0px 1px 3px 1px rgba(60, 64, 67, 0.15);\n",
              "      fill: #174EA6;\n",
              "    }\n",
              "\n",
              "    .colab-df-buttons div {\n",
              "      margin-bottom: 4px;\n",
              "    }\n",
              "\n",
              "    [theme=dark] .colab-df-convert {\n",
              "      background-color: #3B4455;\n",
              "      fill: #D2E3FC;\n",
              "    }\n",
              "\n",
              "    [theme=dark] .colab-df-convert:hover {\n",
              "      background-color: #434B5C;\n",
              "      box-shadow: 0px 1px 3px 1px rgba(0, 0, 0, 0.15);\n",
              "      filter: drop-shadow(0px 1px 2px rgba(0, 0, 0, 0.3));\n",
              "      fill: #FFFFFF;\n",
              "    }\n",
              "  </style>\n",
              "\n",
              "    <script>\n",
              "      const buttonEl =\n",
              "        document.querySelector('#df-ba1515ea-fc1e-4a3e-98ae-18896d99cf5f button.colab-df-convert');\n",
              "      buttonEl.style.display =\n",
              "        google.colab.kernel.accessAllowed ? 'block' : 'none';\n",
              "\n",
              "      async function convertToInteractive(key) {\n",
              "        const element = document.querySelector('#df-ba1515ea-fc1e-4a3e-98ae-18896d99cf5f');\n",
              "        const dataTable =\n",
              "          await google.colab.kernel.invokeFunction('convertToInteractive',\n",
              "                                                    [key], {});\n",
              "        if (!dataTable) return;\n",
              "\n",
              "        const docLinkHtml = 'Like what you see? Visit the ' +\n",
              "          '<a target=\"_blank\" href=https://colab.research.google.com/notebooks/data_table.ipynb>data table notebook</a>'\n",
              "          + ' to learn more about interactive tables.';\n",
              "        element.innerHTML = '';\n",
              "        dataTable['output_type'] = 'display_data';\n",
              "        await google.colab.output.renderOutput(dataTable, element);\n",
              "        const docLink = document.createElement('div');\n",
              "        docLink.innerHTML = docLinkHtml;\n",
              "        element.appendChild(docLink);\n",
              "      }\n",
              "    </script>\n",
              "  </div>\n",
              "\n",
              "\n",
              "    <div id=\"df-1f8e762a-5880-4214-8977-5f867d7f54a1\">\n",
              "      <button class=\"colab-df-quickchart\" onclick=\"quickchart('df-1f8e762a-5880-4214-8977-5f867d7f54a1')\"\n",
              "                title=\"Suggest charts\"\n",
              "                style=\"display:none;\">\n",
              "\n",
              "<svg xmlns=\"http://www.w3.org/2000/svg\" height=\"24px\"viewBox=\"0 0 24 24\"\n",
              "     width=\"24px\">\n",
              "    <g>\n",
              "        <path d=\"M19 3H5c-1.1 0-2 .9-2 2v14c0 1.1.9 2 2 2h14c1.1 0 2-.9 2-2V5c0-1.1-.9-2-2-2zM9 17H7v-7h2v7zm4 0h-2V7h2v10zm4 0h-2v-4h2v4z\"/>\n",
              "    </g>\n",
              "</svg>\n",
              "      </button>\n",
              "\n",
              "<style>\n",
              "  .colab-df-quickchart {\n",
              "      --bg-color: #E8F0FE;\n",
              "      --fill-color: #1967D2;\n",
              "      --hover-bg-color: #E2EBFA;\n",
              "      --hover-fill-color: #174EA6;\n",
              "      --disabled-fill-color: #AAA;\n",
              "      --disabled-bg-color: #DDD;\n",
              "  }\n",
              "\n",
              "  [theme=dark] .colab-df-quickchart {\n",
              "      --bg-color: #3B4455;\n",
              "      --fill-color: #D2E3FC;\n",
              "      --hover-bg-color: #434B5C;\n",
              "      --hover-fill-color: #FFFFFF;\n",
              "      --disabled-bg-color: #3B4455;\n",
              "      --disabled-fill-color: #666;\n",
              "  }\n",
              "\n",
              "  .colab-df-quickchart {\n",
              "    background-color: var(--bg-color);\n",
              "    border: none;\n",
              "    border-radius: 50%;\n",
              "    cursor: pointer;\n",
              "    display: none;\n",
              "    fill: var(--fill-color);\n",
              "    height: 32px;\n",
              "    padding: 0;\n",
              "    width: 32px;\n",
              "  }\n",
              "\n",
              "  .colab-df-quickchart:hover {\n",
              "    background-color: var(--hover-bg-color);\n",
              "    box-shadow: 0 1px 2px rgba(60, 64, 67, 0.3), 0 1px 3px 1px rgba(60, 64, 67, 0.15);\n",
              "    fill: var(--button-hover-fill-color);\n",
              "  }\n",
              "\n",
              "  .colab-df-quickchart-complete:disabled,\n",
              "  .colab-df-quickchart-complete:disabled:hover {\n",
              "    background-color: var(--disabled-bg-color);\n",
              "    fill: var(--disabled-fill-color);\n",
              "    box-shadow: none;\n",
              "  }\n",
              "\n",
              "  .colab-df-spinner {\n",
              "    border: 2px solid var(--fill-color);\n",
              "    border-color: transparent;\n",
              "    border-bottom-color: var(--fill-color);\n",
              "    animation:\n",
              "      spin 1s steps(1) infinite;\n",
              "  }\n",
              "\n",
              "  @keyframes spin {\n",
              "    0% {\n",
              "      border-color: transparent;\n",
              "      border-bottom-color: var(--fill-color);\n",
              "      border-left-color: var(--fill-color);\n",
              "    }\n",
              "    20% {\n",
              "      border-color: transparent;\n",
              "      border-left-color: var(--fill-color);\n",
              "      border-top-color: var(--fill-color);\n",
              "    }\n",
              "    30% {\n",
              "      border-color: transparent;\n",
              "      border-left-color: var(--fill-color);\n",
              "      border-top-color: var(--fill-color);\n",
              "      border-right-color: var(--fill-color);\n",
              "    }\n",
              "    40% {\n",
              "      border-color: transparent;\n",
              "      border-right-color: var(--fill-color);\n",
              "      border-top-color: var(--fill-color);\n",
              "    }\n",
              "    60% {\n",
              "      border-color: transparent;\n",
              "      border-right-color: var(--fill-color);\n",
              "    }\n",
              "    80% {\n",
              "      border-color: transparent;\n",
              "      border-right-color: var(--fill-color);\n",
              "      border-bottom-color: var(--fill-color);\n",
              "    }\n",
              "    90% {\n",
              "      border-color: transparent;\n",
              "      border-bottom-color: var(--fill-color);\n",
              "    }\n",
              "  }\n",
              "</style>\n",
              "\n",
              "      <script>\n",
              "        async function quickchart(key) {\n",
              "          const quickchartButtonEl =\n",
              "            document.querySelector('#' + key + ' button');\n",
              "          quickchartButtonEl.disabled = true;  // To prevent multiple clicks.\n",
              "          quickchartButtonEl.classList.add('colab-df-spinner');\n",
              "          try {\n",
              "            const charts = await google.colab.kernel.invokeFunction(\n",
              "                'suggestCharts', [key], {});\n",
              "          } catch (error) {\n",
              "            console.error('Error during call to suggestCharts:', error);\n",
              "          }\n",
              "          quickchartButtonEl.classList.remove('colab-df-spinner');\n",
              "          quickchartButtonEl.classList.add('colab-df-quickchart-complete');\n",
              "        }\n",
              "        (() => {\n",
              "          let quickchartButtonEl =\n",
              "            document.querySelector('#df-1f8e762a-5880-4214-8977-5f867d7f54a1 button');\n",
              "          quickchartButtonEl.style.display =\n",
              "            google.colab.kernel.accessAllowed ? 'block' : 'none';\n",
              "        })();\n",
              "      </script>\n",
              "    </div>\n",
              "\n",
              "    </div>\n",
              "  </div>\n"
            ],
            "application/vnd.google.colaboratory.intrinsic+json": {
              "type": "dataframe",
              "summary": "{\n  \"name\": \"df\",\n  \"rows\": 10,\n  \"fields\": [\n    {\n      \"column\": \"RowNumber\",\n      \"properties\": {\n        \"dtype\": \"number\",\n        \"std\": 2712,\n        \"min\": 535,\n        \"max\": 9037,\n        \"num_unique_values\": 10,\n        \"samples\": [\n          8414,\n          6768,\n          535\n        ],\n        \"semantic_type\": \"\",\n        \"description\": \"\"\n      }\n    },\n    {\n      \"column\": \"CustomerId\",\n      \"properties\": {\n        \"dtype\": \"number\",\n        \"std\": 73974,\n        \"min\": 15567832,\n        \"max\": 15788224,\n        \"num_unique_values\": 10,\n        \"samples\": [\n          15597309,\n          15654964,\n          15567832\n        ],\n        \"semantic_type\": \"\",\n        \"description\": \"\"\n      }\n    },\n    {\n      \"column\": \"Surname\",\n      \"properties\": {\n        \"dtype\": \"string\",\n        \"num_unique_values\": 10,\n        \"samples\": [\n          \"Howell\",\n          \"Piccio\",\n          \"Shih\"\n        ],\n        \"semantic_type\": \"\",\n        \"description\": \"\"\n      }\n    },\n    {\n      \"column\": \"CreditScore\",\n      \"properties\": {\n        \"dtype\": \"number\",\n        \"std\": 90,\n        \"min\": 550,\n        \"max\": 850,\n        \"num_unique_values\": 10,\n        \"samples\": [\n          749,\n          608,\n          550\n        ],\n        \"semantic_type\": \"\",\n        \"description\": \"\"\n      }\n    },\n    {\n      \"column\": \"Geography\",\n      \"properties\": {\n        \"dtype\": \"category\",\n        \"num_unique_values\": 3,\n        \"samples\": [\n          \"France\",\n          \"Spain\",\n          \"Germany\"\n        ],\n        \"semantic_type\": \"\",\n        \"description\": \"\"\n      }\n    },\n    {\n      \"column\": \"Gender\",\n      \"properties\": {\n        \"dtype\": \"category\",\n        \"num_unique_values\": 2,\n        \"samples\": [\n          \"Female\",\n          \"Male\"\n        ],\n        \"semantic_type\": \"\",\n        \"description\": \"\"\n      }\n    },\n    {\n      \"column\": \"Age\",\n      \"properties\": {\n        \"dtype\": \"number\",\n        \"std\": 6,\n        \"min\": 23,\n        \"max\": 48,\n        \"num_unique_values\": 6,\n        \"samples\": [\n          39,\n          48\n        ],\n        \"semantic_type\": \"\",\n        \"description\": \"\"\n      }\n    },\n    {\n      \"column\": \"Tenure\",\n      \"properties\": {\n        \"dtype\": \"number\",\n        \"std\": 3,\n        \"min\": 0,\n        \"max\": 9,\n        \"num_unique_values\": 6,\n        \"samples\": [\n          3,\n          7\n        ],\n        \"semantic_type\": \"\",\n        \"description\": \"\"\n      }\n    },\n    {\n      \"column\": \"Balance\",\n      \"properties\": {\n        \"dtype\": \"number\",\n        \"std\": 57110.41053175375,\n        \"min\": 0.0,\n        \"max\": 160652.45,\n        \"num_unique_values\": 9,\n        \"samples\": [\n          127675.39,\n          75801.74\n        ],\n        \"semantic_type\": \"\",\n        \"description\": \"\"\n      }\n    },\n    {\n      \"column\": \"NumOfProducts\",\n      \"properties\": {\n        \"dtype\": \"number\",\n        \"std\": 0,\n        \"min\": 1,\n        \"max\": 2,\n        \"num_unique_values\": 2,\n        \"samples\": [\n          1,\n          2\n        ],\n        \"semantic_type\": \"\",\n        \"description\": \"\"\n      }\n    },\n    {\n      \"column\": \"HasCrCard\",\n      \"properties\": {\n        \"dtype\": \"number\",\n        \"std\": 0,\n        \"min\": 0,\n        \"max\": 1,\n        \"num_unique_values\": 2,\n        \"samples\": [\n          0,\n          1\n        ],\n        \"semantic_type\": \"\",\n        \"description\": \"\"\n      }\n    },\n    {\n      \"column\": \"IsActiveMember\",\n      \"properties\": {\n        \"dtype\": \"number\",\n        \"std\": 0,\n        \"min\": 0,\n        \"max\": 1,\n        \"num_unique_values\": 2,\n        \"samples\": [\n          1,\n          0\n        ],\n        \"semantic_type\": \"\",\n        \"description\": \"\"\n      }\n    },\n    {\n      \"column\": \"EstimatedSalary\",\n      \"properties\": {\n        \"dtype\": \"number\",\n        \"std\": 52648.96114987528,\n        \"min\": 54018.93,\n        \"max\": 199390.45,\n        \"num_unique_values\": 10,\n        \"samples\": [\n          80134.65,\n          125762.95\n        ],\n        \"semantic_type\": \"\",\n        \"description\": \"\"\n      }\n    },\n    {\n      \"column\": \"Exited\",\n      \"properties\": {\n        \"dtype\": \"number\",\n        \"std\": 0,\n        \"min\": 0,\n        \"max\": 0,\n        \"num_unique_values\": 1,\n        \"samples\": [\n          0\n        ],\n        \"semantic_type\": \"\",\n        \"description\": \"\"\n      }\n    }\n  ]\n}"
            }
          },
          "metadata": {},
          "execution_count": 4
        }
      ]
    },
    {
      "cell_type": "code",
      "source": [
        "df.shape"
      ],
      "metadata": {
        "colab": {
          "base_uri": "https://localhost:8080/"
        },
        "id": "whL2SeZAgqRf",
        "outputId": "6a882ce6-c109-4120-df2d-c62c4441bba3"
      },
      "execution_count": 5,
      "outputs": [
        {
          "output_type": "execute_result",
          "data": {
            "text/plain": [
              "(10000, 14)"
            ]
          },
          "metadata": {},
          "execution_count": 5
        }
      ]
    },
    {
      "cell_type": "code",
      "source": [
        "### Balanced?\n",
        "sns.countplot(x=\"Exited\",data=df)"
      ],
      "metadata": {
        "colab": {
          "base_uri": "https://localhost:8080/",
          "height": 467
        },
        "id": "XkHdTrRrgy42",
        "outputId": "a150d7d6-46c6-408c-b793-7ef70379c64c"
      },
      "execution_count": 6,
      "outputs": [
        {
          "output_type": "execute_result",
          "data": {
            "text/plain": [
              "<Axes: xlabel='Exited', ylabel='count'>"
            ]
          },
          "metadata": {},
          "execution_count": 6
        },
        {
          "output_type": "display_data",
          "data": {
            "text/plain": [
              "<Figure size 640x480 with 1 Axes>"
            ],
            "image/png": "[encoded data removed]"
          },
          "metadata": {}
        }
      ]
    },
    {
      "cell_type": "code",
      "source": [
        "df.info()"
      ],
      "metadata": {
        "colab": {
          "base_uri": "https://localhost:8080/"
        },
        "id": "JPs6ImhRg8Gt",
        "outputId": "b96290b6-19ff-42c6-ec95-c52f0b08680d"
      },
      "execution_count": 7,
      "outputs": [
        {
          "output_type": "stream",
          "name": "stdout",
          "text": [
            "<class 'pandas.core.frame.DataFrame'>\n",
            "RangeIndex: 10000 entries, 0 to 9999\n",
            "Data columns (total 14 columns):\n",
            " #   Column           Non-Null Count  Dtype  \n",
            "---  ------           --------------  -----  \n",
            " 0   RowNumber        10000 non-null  int64  \n",
            " 1   CustomerId       10000 non-null  int64  \n",
            " 2   Surname          10000 non-null  object \n",
            " 3   CreditScore      10000 non-null  int64  \n",
            " 4   Geography        10000 non-null  object \n",
            " 5   Gender           10000 non-null  object \n",
            " 6   Age              10000 non-null  int64  \n",
            " 7   Tenure           10000 non-null  int64  \n",
            " 8   Balance          10000 non-null  float64\n",
            " 9   NumOfProducts    10000 non-null  int64  \n",
            " 10  HasCrCard        10000 non-null  int64  \n",
            " 11  IsActiveMember   10000 non-null  int64  \n",
            " 12  EstimatedSalary  10000 non-null  float64\n",
            " 13  Exited           10000 non-null  int64  \n",
            "dtypes: float64(2), int64(9), object(3)\n",
            "memory usage: 1.1+ MB\n"
          ]
        }
      ]
    },
    {
      "cell_type": "code",
      "source": [
        "df=df.drop([\"RowNumber\",\"CustomerId\",\"Surname\"],axis=1)"
      ],
      "metadata": {
        "id": "1g7CazWDhKaK"
      },
      "execution_count": 8,
      "outputs": []
    },
    {
      "cell_type": "code",
      "source": [
        "df.shape"
      ],
      "metadata": {
        "colab": {
          "base_uri": "https://localhost:8080/"
        },
        "id": "oMBtDY_ahcVx",
        "outputId": "70d82293-b856-4783-8342-7dbf053fa531"
      },
      "execution_count": 9,
      "outputs": [
        {
          "output_type": "execute_result",
          "data": {
            "text/plain": [
              "(10000, 11)"
            ]
          },
          "metadata": {},
          "execution_count": 9
        }
      ]
    },
    {
      "cell_type": "code",
      "source": [
        "df.hist(figsize=(10,10))"
      ],
      "metadata": {
        "colab": {
          "base_uri": "https://localhost:8080/",
          "height": 998
        },
        "id": "QIFqeTsThdeC",
        "outputId": "993e1e56-11fe-4e43-d87f-5f7cfcc17889"
      },
      "execution_count": 10,
      "outputs": [
        {
          "output_type": "execute_result",
          "data": {
            "text/plain": [
              "array([[<Axes: title={'center': 'CreditScore'}>,\n",
              "        <Axes: title={'center': 'Age'}>,\n",
              "        <Axes: title={'center': 'Tenure'}>],\n",
              "       [<Axes: title={'center': 'Balance'}>,\n",
              "        <Axes: title={'center': 'NumOfProducts'}>,\n",
              "        <Axes: title={'center': 'HasCrCard'}>],\n",
              "       [<Axes: title={'center': 'IsActiveMember'}>,\n",
              "        <Axes: title={'center': 'EstimatedSalary'}>,\n",
              "        <Axes: title={'center': 'Exited'}>]], dtype=object)"
            ]
          },
          "metadata": {},
          "execution_count": 10
        },
        {
          "output_type": "display_data",
          "data": {
            "text/plain": [
              "<Figure size 1000x1000 with 9 Axes>"
            ],
            "image/png": "[encoded data removed]"
          },
          "metadata": {}
        }
      ]
    },
    {
      "cell_type": "code",
      "source": [
        "df.boxplot(figsize=(10,10))"
      ],
      "metadata": {
        "colab": {
          "base_uri": "https://localhost:8080/",
          "height": 821
        },
        "id": "8VhOZxZZhjN9",
        "outputId": "c0530431-9958-4f55-9f03-cd02141c0c56"
      },
      "execution_count": 11,
      "outputs": [
        {
          "output_type": "execute_result",
          "data": {
            "text/plain": [
              "<Axes: >"
            ]
          },
          "metadata": {},
          "execution_count": 11
        },
        {
          "output_type": "display_data",
          "data": {
            "text/plain": [
              "<Figure size 1000x1000 with 1 Axes>"
            ],
            "image/png": "[encoded data removed]"
          },
          "metadata": {}
        }
      ]
    },
    {
      "cell_type": "code",
      "source": [
        "df.sample()"
      ],
      "metadata": {
        "colab": {
          "base_uri": "https://localhost:8080/",
          "height": 100
        },
        "id": "ZovdQB63hzKx",
        "outputId": "c22673d6-3314-492b-d640-90ac5d87f119"
      },
      "execution_count": 12,
      "outputs": [
        {
          "output_type": "execute_result",
          "data": {
            "text/plain": [
              "      CreditScore Geography Gender  Age  Tenure  Balance  NumOfProducts  \\\n",
              "4522          629     Spain   Male   39       5      0.0              2   \n",
              "\n",
              "      HasCrCard  IsActiveMember  EstimatedSalary  Exited  \n",
              "4522          0               0        116748.14       0  "
            ],
            "text/html": [
              "\n",
              "  <div id=\"df-93f5aa2d-7bab-4919-8800-c41dc984b887\" class=\"colab-df-container\">\n",
              "    <div>\n",
              "<style scoped>\n",
              "    .dataframe tbody tr th:only-of-type {\n",
              "        vertical-align: middle;\n",
              "    }\n",
              "\n",
              "    .dataframe tbody tr th {\n",
              "        vertical-align: top;\n",
              "    }\n",
              "\n",
              "    .dataframe thead th {\n",
              "        text-align: right;\n",
              "    }\n",
              "</style>\n",
              "<table border=\"1\" class=\"dataframe\">\n",
              "  <thead>\n",
              "    <tr style=\"text-align: right;\">\n",
              "      <th></th>\n",
              "      <th>CreditScore</th>\n",
              "      <th>Geography</th>\n",
              "      <th>Gender</th>\n",
              "      <th>Age</th>\n",
              "      <th>Tenure</th>\n",
              "      <th>Balance</th>\n",
              "      <th>NumOfProducts</th>\n",
              "      <th>HasCrCard</th>\n",
              "      <th>IsActiveMember</th>\n",
              "      <th>EstimatedSalary</th>\n",
              "      <th>Exited</th>\n",
              "    </tr>\n",
              "  </thead>\n",
              "  <tbody>\n",
              "    <tr>\n",
              "      <th>4522</th>\n",
              "      <td>629</td>\n",
              "      <td>Spain</td>\n",
              "      <td>Male</td>\n",
              "      <td>39</td>\n",
              "      <td>5</td>\n",
              "      <td>0.0</td>\n",
              "      <td>2</td>\n",
              "      <td>0</td>\n",
              "      <td>0</td>\n",
              "      <td>116748.14</td>\n",
              "      <td>0</td>\n",
              "    </tr>\n",
              "  </tbody>\n",
              "</table>\n",
              "</div>\n",
              "    <div class=\"colab-df-buttons\">\n",
              "\n",
              "  <div class=\"colab-df-container\">\n",
              "    <button class=\"colab-df-convert\" onclick=\"convertToInteractive('df-93f5aa2d-7bab-4919-8800-c41dc984b887')\"\n",
              "            title=\"Convert this dataframe to an interactive table.\"\n",
              "            style=\"display:none;\">\n",
              "\n",
              "  <svg xmlns=\"http://www.w3.org/2000/svg\" height=\"24px\" viewBox=\"0 -960 960 960\">\n",
              "    <path d=\"M120-120v-720h720v720H120Zm60-500h600v-160H180v160Zm220 220h160v-160H400v160Zm0 220h160v-160H400v160ZM180-400h160v-160H180v160Zm440 0h160v-160H620v160ZM180-180h160v-160H180v160Zm440 0h160v-160H620v160Z\"/>\n",
              "  </svg>\n",
              "    </button>\n",
              "\n",
              "  <style>\n",
              "    .colab-df-container {\n",
              "      display:flex;\n",
              "      gap: 12px;\n",
              "    }\n",
              "\n",
              "    .colab-df-convert {\n",
              "      background-color: #E8F0FE;\n",
              "      border: none;\n",
              "      border-radius: 50%;\n",
              "      cursor: pointer;\n",
              "      display: none;\n",
              "      fill: #1967D2;\n",
              "      height: 32px;\n",
              "      padding: 0 0 0 0;\n",
              "      width: 32px;\n",
              "    }\n",
              "\n",
              "    .colab-df-convert:hover {\n",
              "      background-color: #E2EBFA;\n",
              "      box-shadow: 0px 1px 2px rgba(60, 64, 67, 0.3), 0px 1px 3px 1px rgba(60, 64, 67, 0.15);\n",
              "      fill: #174EA6;\n",
              "    }\n",
              "\n",
              "    .colab-df-buttons div {\n",
              "      margin-bottom: 4px;\n",
              "    }\n",
              "\n",
              "    [theme=dark] .colab-df-convert {\n",
              "      background-color: #3B4455;\n",
              "      fill: #D2E3FC;\n",
              "    }\n",
              "\n",
              "    [theme=dark] .colab-df-convert:hover {\n",
              "      background-color: #434B5C;\n",
              "      box-shadow: 0px 1px 3px 1px rgba(0, 0, 0, 0.15);\n",
              "      filter: drop-shadow(0px 1px 2px rgba(0, 0, 0, 0.3));\n",
              "      fill: #FFFFFF;\n",
              "    }\n",
              "  </style>\n",
              "\n",
              "    <script>\n",
              "      const buttonEl =\n",
              "        document.querySelector('#df-93f5aa2d-7bab-4919-8800-c41dc984b887 button.colab-df-convert');\n",
              "      buttonEl.style.display =\n",
              "        google.colab.kernel.accessAllowed ? 'block' : 'none';\n",
              "\n",
              "      async function convertToInteractive(key) {\n",
              "        const element = document.querySelector('#df-93f5aa2d-7bab-4919-8800-c41dc984b887');\n",
              "        const dataTable =\n",
              "          await google.colab.kernel.invokeFunction('convertToInteractive',\n",
              "                                                    [key], {});\n",
              "        if (!dataTable) return;\n",
              "\n",
              "        const docLinkHtml = 'Like what you see? Visit the ' +\n",
              "          '<a target=\"_blank\" href=https://colab.research.google.com/notebooks/data_table.ipynb>data table notebook</a>'\n",
              "          + ' to learn more about interactive tables.';\n",
              "        element.innerHTML = '';\n",
              "        dataTable['output_type'] = 'display_data';\n",
              "        await google.colab.output.renderOutput(dataTable, element);\n",
              "        const docLink = document.createElement('div');\n",
              "        docLink.innerHTML = docLinkHtml;\n",
              "        element.appendChild(docLink);\n",
              "      }\n",
              "    </script>\n",
              "  </div>\n",
              "\n",
              "\n",
              "    </div>\n",
              "  </div>\n"
            ],
            "application/vnd.google.colaboratory.intrinsic+json": {
              "type": "dataframe",
              "summary": "{\n  \"name\": \"df\",\n  \"rows\": 1,\n  \"fields\": [\n    {\n      \"column\": \"CreditScore\",\n      \"properties\": {\n        \"dtype\": \"number\",\n        \"std\": null,\n        \"min\": 629,\n        \"max\": 629,\n        \"num_unique_values\": 1,\n        \"samples\": [\n          629\n        ],\n        \"semantic_type\": \"\",\n        \"description\": \"\"\n      }\n    },\n    {\n      \"column\": \"Geography\",\n      \"properties\": {\n        \"dtype\": \"string\",\n        \"num_unique_values\": 1,\n        \"samples\": [\n          \"Spain\"\n        ],\n        \"semantic_type\": \"\",\n        \"description\": \"\"\n      }\n    },\n    {\n      \"column\": \"Gender\",\n      \"properties\": {\n        \"dtype\": \"string\",\n        \"num_unique_values\": 1,\n        \"samples\": [\n          \"Male\"\n        ],\n        \"semantic_type\": \"\",\n        \"description\": \"\"\n      }\n    },\n    {\n      \"column\": \"Age\",\n      \"properties\": {\n        \"dtype\": \"number\",\n        \"std\": null,\n        \"min\": 39,\n        \"max\": 39,\n        \"num_unique_values\": 1,\n        \"samples\": [\n          39\n        ],\n        \"semantic_type\": \"\",\n        \"description\": \"\"\n      }\n    },\n    {\n      \"column\": \"Tenure\",\n      \"properties\": {\n        \"dtype\": \"number\",\n        \"std\": null,\n        \"min\": 5,\n        \"max\": 5,\n        \"num_unique_values\": 1,\n        \"samples\": [\n          5\n        ],\n        \"semantic_type\": \"\",\n        \"description\": \"\"\n      }\n    },\n    {\n      \"column\": \"Balance\",\n      \"properties\": {\n        \"dtype\": \"number\",\n        \"std\": null,\n        \"min\": 0.0,\n        \"max\": 0.0,\n        \"num_unique_values\": 1,\n        \"samples\": [\n          0.0\n        ],\n        \"semantic_type\": \"\",\n        \"description\": \"\"\n      }\n    },\n    {\n      \"column\": \"NumOfProducts\",\n      \"properties\": {\n        \"dtype\": \"number\",\n        \"std\": null,\n        \"min\": 2,\n        \"max\": 2,\n        \"num_unique_values\": 1,\n        \"samples\": [\n          2\n        ],\n        \"semantic_type\": \"\",\n        \"description\": \"\"\n      }\n    },\n    {\n      \"column\": \"HasCrCard\",\n      \"properties\": {\n        \"dtype\": \"number\",\n        \"std\": null,\n        \"min\": 0,\n        \"max\": 0,\n        \"num_unique_values\": 1,\n        \"samples\": [\n          0\n        ],\n        \"semantic_type\": \"\",\n        \"description\": \"\"\n      }\n    },\n    {\n      \"column\": \"IsActiveMember\",\n      \"properties\": {\n        \"dtype\": \"number\",\n        \"std\": null,\n        \"min\": 0,\n        \"max\": 0,\n        \"num_unique_values\": 1,\n        \"samples\": [\n          0\n        ],\n        \"semantic_type\": \"\",\n        \"description\": \"\"\n      }\n    },\n    {\n      \"column\": \"EstimatedSalary\",\n      \"properties\": {\n        \"dtype\": \"number\",\n        \"std\": null,\n        \"min\": 116748.14,\n        \"max\": 116748.14,\n        \"num_unique_values\": 1,\n        \"samples\": [\n          116748.14\n        ],\n        \"semantic_type\": \"\",\n        \"description\": \"\"\n      }\n    },\n    {\n      \"column\": \"Exited\",\n      \"properties\": {\n        \"dtype\": \"number\",\n        \"std\": null,\n        \"min\": 0,\n        \"max\": 0,\n        \"num_unique_values\": 1,\n        \"samples\": [\n          0\n        ],\n        \"semantic_type\": \"\",\n        \"description\": \"\"\n      }\n    }\n  ]\n}"
            }
          },
          "metadata": {},
          "execution_count": 12
        }
      ]
    },
    {
      "cell_type": "code",
      "source": [
        "\n",
        "from sklearn.preprocessing import LabelEncoder\n",
        "\n",
        "# Select categorical columns\n",
        "categorical_cols = df.select_dtypes(include='object').columns\n",
        "\n",
        "# Apply label encoding\n",
        "for col in categorical_cols:\n",
        "    le = LabelEncoder()\n",
        "    df[col] = le.fit_transform(df[col])\n",
        "\n",
        "display(df.head())"
      ],
      "metadata": {
        "colab": {
          "base_uri": "https://localhost:8080/",
          "height": 226
        },
        "id": "0dSuPwDGh29e",
        "outputId": "fe33a0a0-89fa-425d-d68d-624f365d68ee"
      },
      "execution_count": 13,
      "outputs": [
        {
          "output_type": "display_data",
          "data": {
            "text/plain": [
              "   CreditScore  Geography  Gender  Age  Tenure    Balance  NumOfProducts  \\\n",
              "0          619          0       0   42       2       0.00              1   \n",
              "1          608          2       0   41       1   83807.86              1   \n",
              "2          502          0       0   42       8  159660.80              3   \n",
              "3          699          0       0   39       1       0.00              2   \n",
              "4          850          2       0   43       2  125510.82              1   \n",
              "\n",
              "   HasCrCard  IsActiveMember  EstimatedSalary  Exited  \n",
              "0          1               1        101348.88       1  \n",
              "1          0               1        112542.58       0  \n",
              "2          1               0        113931.57       1  \n",
              "3          0               0         93826.63       0  \n",
              "4          1               1         79084.10       0  "
            ],
            "text/html": [
              "\n",
              "  <div id=\"df-3b3861f9-bb7f-475c-b128-f3aa4e72da34\" class=\"colab-df-container\">\n",
              "    <div>\n",
              "<style scoped>\n",
              "    .dataframe tbody tr th:only-of-type {\n",
              "        vertical-align: middle;\n",
              "    }\n",
              "\n",
              "    .dataframe tbody tr th {\n",
              "        vertical-align: top;\n",
              "    }\n",
              "\n",
              "    .dataframe thead th {\n",
              "        text-align: right;\n",
              "    }\n",
              "</style>\n",
              "<table border=\"1\" class=\"dataframe\">\n",
              "  <thead>\n",
              "    <tr style=\"text-align: right;\">\n",
              "      <th></th>\n",
              "      <th>CreditScore</th>\n",
              "      <th>Geography</th>\n",
              "      <th>Gender</th>\n",
              "      <th>Age</th>\n",
              "      <th>Tenure</th>\n",
              "      <th>Balance</th>\n",
              "      <th>NumOfProducts</th>\n",
              "      <th>HasCrCard</th>\n",
              "      <th>IsActiveMember</th>\n",
              "      <th>EstimatedSalary</th>\n",
              "      <th>Exited</th>\n",
              "    </tr>\n",
              "  </thead>\n",
              "  <tbody>\n",
              "    <tr>\n",
              "      <th>0</th>\n",
              "      <td>619</td>\n",
              "      <td>0</td>\n",
              "      <td>0</td>\n",
              "      <td>42</td>\n",
              "      <td>2</td>\n",
              "      <td>0.00</td>\n",
              "      <td>1</td>\n",
              "      <td>1</td>\n",
              "      <td>1</td>\n",
              "      <td>101348.88</td>\n",
              "      <td>1</td>\n",
              "    </tr>\n",
              "    <tr>\n",
              "      <th>1</th>\n",
              "      <td>608</td>\n",
              "      <td>2</td>\n",
              "      <td>0</td>\n",
              "      <td>41</td>\n",
              "      <td>1</td>\n",
              "      <td>83807.86</td>\n",
              "      <td>1</td>\n",
              "      <td>0</td>\n",
              "      <td>1</td>\n",
              "      <td>112542.58</td>\n",
              "      <td>0</td>\n",
              "    </tr>\n",
              "    <tr>\n",
              "      <th>2</th>\n",
              "      <td>502</td>\n",
              "      <td>0</td>\n",
              "      <td>0</td>\n",
              "      <td>42</td>\n",
              "      <td>8</td>\n",
              "      <td>159660.80</td>\n",
              "      <td>3</td>\n",
              "      <td>1</td>\n",
              "      <td>0</td>\n",
              "      <td>113931.57</td>\n",
              "      <td>1</td>\n",
              "    </tr>\n",
              "    <tr>\n",
              "      <th>3</th>\n",
              "      <td>699</td>\n",
              "      <td>0</td>\n",
              "      <td>0</td>\n",
              "      <td>39</td>\n",
              "      <td>1</td>\n",
              "      <td>0.00</td>\n",
              "      <td>2</td>\n",
              "      <td>0</td>\n",
              "      <td>0</td>\n",
              "      <td>93826.63</td>\n",
              "      <td>0</td>\n",
              "    </tr>\n",
              "    <tr>\n",
              "      <th>4</th>\n",
              "      <td>850</td>\n",
              "      <td>2</td>\n",
              "      <td>0</td>\n",
              "      <td>43</td>\n",
              "      <td>2</td>\n",
              "      <td>125510.82</td>\n",
              "      <td>1</td>\n",
              "      <td>1</td>\n",
              "      <td>1</td>\n",
              "      <td>79084.10</td>\n",
              "      <td>0</td>\n",
              "    </tr>\n",
              "  </tbody>\n",
              "</table>\n",
              "</div>\n",
              "    <div class=\"colab-df-buttons\">\n",
              "\n",
              "  <div class=\"colab-df-container\">\n",
              "    <button class=\"colab-df-convert\" onclick=\"convertToInteractive('df-3b3861f9-bb7f-475c-b128-f3aa4e72da34')\"\n",
              "            title=\"Convert this dataframe to an interactive table.\"\n",
              "            style=\"display:none;\">\n",
              "\n",
              "  <svg xmlns=\"http://www.w3.org/2000/svg\" height=\"24px\" viewBox=\"0 -960 960 960\">\n",
              "    <path d=\"M120-120v-720h720v720H120Zm60-500h600v-160H180v160Zm220 220h160v-160H400v160Zm0 220h160v-160H400v160ZM180-400h160v-160H180v160Zm440 0h160v-160H620v160ZM180-180h160v-160H180v160Zm440 0h160v-160H620v160Z\"/>\n",
              "  </svg>\n",
              "    </button>\n",
              "\n",
              "  <style>\n",
              "    .colab-df-container {\n",
              "      display:flex;\n",
              "      gap: 12px;\n",
              "    }\n",
              "\n",
              "    .colab-df-convert {\n",
              "      background-color: #E8F0FE;\n",
              "      border: none;\n",
              "      border-radius: 50%;\n",
              "      cursor: pointer;\n",
              "      display: none;\n",
              "      fill: #1967D2;\n",
              "      height: 32px;\n",
              "      padding: 0 0 0 0;\n",
              "      width: 32px;\n",
              "    }\n",
              "\n",
              "    .colab-df-convert:hover {\n",
              "      background-color: #E2EBFA;\n",
              "      box-shadow: 0px 1px 2px rgba(60, 64, 67, 0.3), 0px 1px 3px 1px rgba(60, 64, 67, 0.15);\n",
              "      fill: #174EA6;\n",
              "    }\n",
              "\n",
              "    .colab-df-buttons div {\n",
              "      margin-bottom: 4px;\n",
              "    }\n",
              "\n",
              "    [theme=dark] .colab-df-convert {\n",
              "      background-color: #3B4455;\n",
              "      fill: #D2E3FC;\n",
              "    }\n",
              "\n",
              "    [theme=dark] .colab-df-convert:hover {\n",
              "      background-color: #434B5C;\n",
              "      box-shadow: 0px 1px 3px 1px rgba(0, 0, 0, 0.15);\n",
              "      filter: drop-shadow(0px 1px 2px rgba(0, 0, 0, 0.3));\n",
              "      fill: #FFFFFF;\n",
              "    }\n",
              "  </style>\n",
              "\n",
              "    <script>\n",
              "      const buttonEl =\n",
              "        document.querySelector('#df-3b3861f9-bb7f-475c-b128-f3aa4e72da34 button.colab-df-convert');\n",
              "      buttonEl.style.display =\n",
              "        google.colab.kernel.accessAllowed ? 'block' : 'none';\n",
              "\n",
              "      async function convertToInteractive(key) {\n",
              "        const element = document.querySelector('#df-3b3861f9-bb7f-475c-b128-f3aa4e72da34');\n",
              "        const dataTable =\n",
              "          await google.colab.kernel.invokeFunction('convertToInteractive',\n",
              "                                                    [key], {});\n",
              "        if (!dataTable) return;\n",
              "\n",
              "        const docLinkHtml = 'Like what you see? Visit the ' +\n",
              "          '<a target=\"_blank\" href=https://colab.research.google.com/notebooks/data_table.ipynb>data table notebook</a>'\n",
              "          + ' to learn more about interactive tables.';\n",
              "        element.innerHTML = '';\n",
              "        dataTable['output_type'] = 'display_data';\n",
              "        await google.colab.output.renderOutput(dataTable, element);\n",
              "        const docLink = document.createElement('div');\n",
              "        docLink.innerHTML = docLinkHtml;\n",
              "        element.appendChild(docLink);\n",
              "      }\n",
              "    </script>\n",
              "  </div>\n",
              "\n",
              "\n",
              "    <div id=\"df-f42cbb06-bcef-46fb-b7aa-6e49c193a79b\">\n",
              "      <button class=\"colab-df-quickchart\" onclick=\"quickchart('df-f42cbb06-bcef-46fb-b7aa-6e49c193a79b')\"\n",
              "                title=\"Suggest charts\"\n",
              "                style=\"display:none;\">\n",
              "\n",
              "<svg xmlns=\"http://www.w3.org/2000/svg\" height=\"24px\"viewBox=\"0 0 24 24\"\n",
              "     width=\"24px\">\n",
              "    <g>\n",
              "        <path d=\"M19 3H5c-1.1 0-2 .9-2 2v14c0 1.1.9 2 2 2h14c1.1 0 2-.9 2-2V5c0-1.1-.9-2-2-2zM9 17H7v-7h2v7zm4 0h-2V7h2v10zm4 0h-2v-4h2v4z\"/>\n",
              "    </g>\n",
              "</svg>\n",
              "      </button>\n",
              "\n",
              "<style>\n",
              "  .colab-df-quickchart {\n",
              "      --bg-color: #E8F0FE;\n",
              "      --fill-color: #1967D2;\n",
              "      --hover-bg-color: #E2EBFA;\n",
              "      --hover-fill-color: #174EA6;\n",
              "      --disabled-fill-color: #AAA;\n",
              "      --disabled-bg-color: #DDD;\n",
              "  }\n",
              "\n",
              "  [theme=dark] .colab-df-quickchart {\n",
              "      --bg-color: #3B4455;\n",
              "      --fill-color: #D2E3FC;\n",
              "      --hover-bg-color: #434B5C;\n",
              "      --hover-fill-color: #FFFFFF;\n",
              "      --disabled-bg-color: #3B4455;\n",
              "      --disabled-fill-color: #666;\n",
              "  }\n",
              "\n",
              "  .colab-df-quickchart {\n",
              "    background-color: var(--bg-color);\n",
              "    border: none;\n",
              "    border-radius: 50%;\n",
              "    cursor: pointer;\n",
              "    display: none;\n",
              "    fill: var(--fill-color);\n",
              "    height: 32px;\n",
              "    padding: 0;\n",
              "    width: 32px;\n",
              "  }\n",
              "\n",
              "  .colab-df-quickchart:hover {\n",
              "    background-color: var(--hover-bg-color);\n",
              "    box-shadow: 0 1px 2px rgba(60, 64, 67, 0.3), 0 1px 3px 1px rgba(60, 64, 67, 0.15);\n",
              "    fill: var(--button-hover-fill-color);\n",
              "  }\n",
              "\n",
              "  .colab-df-quickchart-complete:disabled,\n",
              "  .colab-df-quickchart-complete:disabled:hover {\n",
              "    background-color: var(--disabled-bg-color);\n",
              "    fill: var(--disabled-fill-color);\n",
              "    box-shadow: none;\n",
              "  }\n",
              "\n",
              "  .colab-df-spinner {\n",
              "    border: 2px solid var(--fill-color);\n",
              "    border-color: transparent;\n",
              "    border-bottom-color: var(--fill-color);\n",
              "    animation:\n",
              "      spin 1s steps(1) infinite;\n",
              "  }\n",
              "\n",
              "  @keyframes spin {\n",
              "    0% {\n",
              "      border-color: transparent;\n",
              "      border-bottom-color: var(--fill-color);\n",
              "      border-left-color: var(--fill-color);\n",
              "    }\n",
              "    20% {\n",
              "      border-color: transparent;\n",
              "      border-left-color: var(--fill-color);\n",
              "      border-top-color: var(--fill-color);\n",
              "    }\n",
              "    30% {\n",
              "      border-color: transparent;\n",
              "      border-left-color: var(--fill-color);\n",
              "      border-top-color: var(--fill-color);\n",
              "      border-right-color: var(--fill-color);\n",
              "    }\n",
              "    40% {\n",
              "      border-color: transparent;\n",
              "      border-right-color: var(--fill-color);\n",
              "      border-top-color: var(--fill-color);\n",
              "    }\n",
              "    60% {\n",
              "      border-color: transparent;\n",
              "      border-right-color: var(--fill-color);\n",
              "    }\n",
              "    80% {\n",
              "      border-color: transparent;\n",
              "      border-right-color: var(--fill-color);\n",
              "      border-bottom-color: var(--fill-color);\n",
              "    }\n",
              "    90% {\n",
              "      border-color: transparent;\n",
              "      border-bottom-color: var(--fill-color);\n",
              "    }\n",
              "  }\n",
              "</style>\n",
              "\n",
              "      <script>\n",
              "        async function quickchart(key) {\n",
              "          const quickchartButtonEl =\n",
              "            document.querySelector('#' + key + ' button');\n",
              "          quickchartButtonEl.disabled = true;  // To prevent multiple clicks.\n",
              "          quickchartButtonEl.classList.add('colab-df-spinner');\n",
              "          try {\n",
              "            const charts = await google.colab.kernel.invokeFunction(\n",
              "                'suggestCharts', [key], {});\n",
              "          } catch (error) {\n",
              "            console.error('Error during call to suggestCharts:', error);\n",
              "          }\n",
              "          quickchartButtonEl.classList.remove('colab-df-spinner');\n",
              "          quickchartButtonEl.classList.add('colab-df-quickchart-complete');\n",
              "        }\n",
              "        (() => {\n",
              "          let quickchartButtonEl =\n",
              "            document.querySelector('#df-f42cbb06-bcef-46fb-b7aa-6e49c193a79b button');\n",
              "          quickchartButtonEl.style.display =\n",
              "            google.colab.kernel.accessAllowed ? 'block' : 'none';\n",
              "        })();\n",
              "      </script>\n",
              "    </div>\n",
              "\n",
              "    </div>\n",
              "  </div>\n"
            ],
            "application/vnd.google.colaboratory.intrinsic+json": {
              "type": "dataframe",
              "summary": "{\n  \"name\": \"display(df\",\n  \"rows\": 5,\n  \"fields\": [\n    {\n      \"column\": \"CreditScore\",\n      \"properties\": {\n        \"dtype\": \"number\",\n        \"std\": 129,\n        \"min\": 502,\n        \"max\": 850,\n        \"num_unique_values\": 5,\n        \"samples\": [\n          608,\n          850,\n          502\n        ],\n        \"semantic_type\": \"\",\n        \"description\": \"\"\n      }\n    },\n    {\n      \"column\": \"Geography\",\n      \"properties\": {\n        \"dtype\": \"number\",\n        \"std\": 1,\n        \"min\": 0,\n        \"max\": 2,\n        \"num_unique_values\": 2,\n        \"samples\": [\n          2,\n          0\n        ],\n        \"semantic_type\": \"\",\n        \"description\": \"\"\n      }\n    },\n    {\n      \"column\": \"Gender\",\n      \"properties\": {\n        \"dtype\": \"number\",\n        \"std\": 0,\n        \"min\": 0,\n        \"max\": 0,\n        \"num_unique_values\": 1,\n        \"samples\": [\n          0\n        ],\n        \"semantic_type\": \"\",\n        \"description\": \"\"\n      }\n    },\n    {\n      \"column\": \"Age\",\n      \"properties\": {\n        \"dtype\": \"number\",\n        \"std\": 1,\n        \"min\": 39,\n        \"max\": 43,\n        \"num_unique_values\": 4,\n        \"samples\": [\n          41\n        ],\n        \"semantic_type\": \"\",\n        \"description\": \"\"\n      }\n    },\n    {\n      \"column\": \"Tenure\",\n      \"properties\": {\n        \"dtype\": \"number\",\n        \"std\": 2,\n        \"min\": 1,\n        \"max\": 8,\n        \"num_unique_values\": 3,\n        \"samples\": [\n          2\n        ],\n        \"semantic_type\": \"\",\n        \"description\": \"\"\n      }\n    },\n    {\n      \"column\": \"Balance\",\n      \"properties\": {\n        \"dtype\": \"number\",\n        \"std\": 72524.34601442111,\n        \"min\": 0.0,\n        \"max\": 159660.8,\n        \"num_unique_values\": 4,\n        \"samples\": [\n          83807.86\n        ],\n        \"semantic_type\": \"\",\n        \"description\": \"\"\n      }\n    },\n    {\n      \"column\": \"NumOfProducts\",\n      \"properties\": {\n        \"dtype\": \"number\",\n        \"std\": 0,\n        \"min\": 1,\n        \"max\": 3,\n        \"num_unique_values\": 3,\n        \"samples\": [\n          1\n        ],\n        \"semantic_type\": \"\",\n        \"description\": \"\"\n      }\n    },\n    {\n      \"column\": \"HasCrCard\",\n      \"properties\": {\n        \"dtype\": \"number\",\n        \"std\": 0,\n        \"min\": 0,\n        \"max\": 1,\n        \"num_unique_values\": 2,\n        \"samples\": [\n          0\n        ],\n        \"semantic_type\": \"\",\n        \"description\": \"\"\n      }\n    },\n    {\n      \"column\": \"IsActiveMember\",\n      \"properties\": {\n        \"dtype\": \"number\",\n        \"std\": 0,\n        \"min\": 0,\n        \"max\": 1,\n        \"num_unique_values\": 2,\n        \"samples\": [\n          0\n        ],\n        \"semantic_type\": \"\",\n        \"description\": \"\"\n      }\n    },\n    {\n      \"column\": \"EstimatedSalary\",\n      \"properties\": {\n        \"dtype\": \"number\",\n        \"std\": 14393.593385557686,\n        \"min\": 79084.1,\n        \"max\": 113931.57,\n        \"num_unique_values\": 5,\n        \"samples\": [\n          112542.58\n        ],\n        \"semantic_type\": \"\",\n        \"description\": \"\"\n      }\n    },\n    {\n      \"column\": \"Exited\",\n      \"properties\": {\n        \"dtype\": \"number\",\n        \"std\": 0,\n        \"min\": 0,\n        \"max\": 1,\n        \"num_unique_values\": 2,\n        \"samples\": [\n          0\n        ],\n        \"semantic_type\": \"\",\n        \"description\": \"\"\n      }\n    }\n  ]\n}"
            }
          },
          "metadata": {}
        }
      ]
    },
    {
      "cell_type": "code",
      "source": [
        "from sklearn.model_selection import train_test_split\n",
        "from sklearn.linear_model import LogisticRegression #classification\n",
        "Y=df[[\"Exited\"]]\n",
        "X=df.drop([\"Exited\"],axis=1)"
      ],
      "metadata": {
        "id": "TwsPoQvhiLaR"
      },
      "execution_count": 14,
      "outputs": []
    },
    {
      "cell_type": "code",
      "source": [
        "\n",
        "X_train,X_test,Y_train,Y_test=train_test_split(X,Y,test_size=0.3)"
      ],
      "metadata": {
        "id": "HraK-8PiiVnc"
      },
      "execution_count": 15,
      "outputs": []
    },
    {
      "cell_type": "markdown",
      "source": [
        "![image.png](data:image/png;base64,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)"
      ],
      "metadata": {
        "id": "ogGaimI9jMIQ"
      }
    },
    {
      "cell_type": "code",
      "source": [
        "model_lr=LogisticRegression(solver=\"newton-cg\")\n",
        "\n",
        "model_lr.fit(X_train,Y_train)"
      ],
      "metadata": {
        "colab": {
          "base_uri": "https://localhost:8080/",
          "height": 79
        },
        "id": "FtXnS1vtiXlR",
        "outputId": "5be6eabc-d897-4b00-ef61-1aebc36064ba"
      },
      "execution_count": 16,
      "outputs": [
        {
          "output_type": "execute_result",
          "data": {
            "text/plain": [
              "LogisticRegression(solver='newton-cg')"
            ],
            "text/html": [
              "<style>#sk-container-id-1 {\n",
              "  /* Definition of color scheme common for light and dark mode */\n",
              "  --sklearn-color-text: #000;\n",
              "  --sklearn-color-text-muted: #666;\n",
              "  --sklearn-color-line: gray;\n",
              "  /* Definition of color scheme for unfitted estimators */\n",
              "  --sklearn-color-unfitted-level-0: #fff5e6;\n",
              "  --sklearn-color-unfitted-level-1: #f6e4d2;\n",
              "  --sklearn-color-unfitted-level-2: #ffe0b3;\n",
              "  --sklearn-color-unfitted-level-3: chocolate;\n",
              "  /* Definition of color scheme for fitted estimators */\n",
              "  --sklearn-color-fitted-level-0: #f0f8ff;\n",
              "  --sklearn-color-fitted-level-1: #d4ebff;\n",
              "  --sklearn-color-fitted-level-2: #b3dbfd;\n",
              "  --sklearn-color-fitted-level-3: cornflowerblue;\n",
              "\n",
              "  /* Specific color for light theme */\n",
              "  --sklearn-color-text-on-default-background: var(--sg-text-color, var(--theme-code-foreground, var(--jp-content-font-color1, black)));\n",
              "  --sklearn-color-background: var(--sg-background-color, var(--theme-background, var(--jp-layout-color0, white)));\n",
              "  --sklearn-color-border-box: var(--sg-text-color, var(--theme-code-foreground, var(--jp-content-font-color1, black)));\n",
              "  --sklearn-color-icon: #696969;\n",
              "\n",
              "  @media (prefers-color-scheme: dark) {\n",
              "    /* Redefinition of color scheme for dark theme */\n",
              "    --sklearn-color-text-on-default-background: var(--sg-text-color, var(--theme-code-foreground, var(--jp-content-font-color1, white)));\n",
              "    --sklearn-color-background: var(--sg-background-color, var(--theme-background, var(--jp-layout-color0, #111)));\n",
              "    --sklearn-color-border-box: var(--sg-text-color, var(--theme-code-foreground, var(--jp-content-font-color1, white)));\n",
              "    --sklearn-color-icon: #878787;\n",
              "  }\n",
              "}\n",
              "\n",
              "#sk-container-id-1 {\n",
              "  color: var(--sklearn-color-text);\n",
              "}\n",
              "\n",
              "#sk-container-id-1 pre {\n",
              "  padding: 0;\n",
              "}\n",
              "\n",
              "#sk-container-id-1 input.sk-hidden--visually {\n",
              "  border: 0;\n",
              "  clip: rect(1px 1px 1px 1px);\n",
              "  clip: rect(1px, 1px, 1px, 1px);\n",
              "  height: 1px;\n",
              "  margin: -1px;\n",
              "  overflow: hidden;\n",
              "  padding: 0;\n",
              "  position: absolute;\n",
              "  width: 1px;\n",
              "}\n",
              "\n",
              "#sk-container-id-1 div.sk-dashed-wrapped {\n",
              "  border: 1px dashed var(--sklearn-color-line);\n",
              "  margin: 0 0.4em 0.5em 0.4em;\n",
              "  box-sizing: border-box;\n",
              "  padding-bottom: 0.4em;\n",
              "  background-color: var(--sklearn-color-background);\n",
              "}\n",
              "\n",
              "#sk-container-id-1 div.sk-container {\n",
              "  /* jupyter's `normalize.less` sets `[hidden] { display: none; }`\n",
              "     but bootstrap.min.css set `[hidden] { display: none !important; }`\n",
              "     so we also need the `!important` here to be able to override the\n",
              "     default hidden behavior on the sphinx rendered scikit-learn.org.\n",
              "     See: https://github.com/scikit-learn/scikit-learn/issues/21755 */\n",
              "  display: inline-block !important;\n",
              "  position: relative;\n",
              "}\n",
              "\n",
              "#sk-container-id-1 div.sk-text-repr-fallback {\n",
              "  display: none;\n",
              "}\n",
              "\n",
              "div.sk-parallel-item,\n",
              "div.sk-serial,\n",
              "div.sk-item {\n",
              "  /* draw centered vertical line to link estimators */\n",
              "  background-image: linear-gradient(var(--sklearn-color-text-on-default-background), var(--sklearn-color-text-on-default-background));\n",
              "  background-size: 2px 100%;\n",
              "  background-repeat: no-repeat;\n",
              "  background-position: center center;\n",
              "}\n",
              "\n",
              "/* Parallel-specific style estimator block */\n",
              "\n",
              "#sk-container-id-1 div.sk-parallel-item::after {\n",
              "  content: \"\";\n",
              "  width: 100%;\n",
              "  border-bottom: 2px solid var(--sklearn-color-text-on-default-background);\n",
              "  flex-grow: 1;\n",
              "}\n",
              "\n",
              "#sk-container-id-1 div.sk-parallel {\n",
              "  display: flex;\n",
              "  align-items: stretch;\n",
              "  justify-content: center;\n",
              "  background-color: var(--sklearn-color-background);\n",
              "  position: relative;\n",
              "}\n",
              "\n",
              "#sk-container-id-1 div.sk-parallel-item {\n",
              "  display: flex;\n",
              "  flex-direction: column;\n",
              "}\n",
              "\n",
              "#sk-container-id-1 div.sk-parallel-item:first-child::after {\n",
              "  align-self: flex-end;\n",
              "  width: 50%;\n",
              "}\n",
              "\n",
              "#sk-container-id-1 div.sk-parallel-item:last-child::after {\n",
              "  align-self: flex-start;\n",
              "  width: 50%;\n",
              "}\n",
              "\n",
              "#sk-container-id-1 div.sk-parallel-item:only-child::after {\n",
              "  width: 0;\n",
              "}\n",
              "\n",
              "/* Serial-specific style estimator block */\n",
              "\n",
              "#sk-container-id-1 div.sk-serial {\n",
              "  display: flex;\n",
              "  flex-direction: column;\n",
              "  align-items: center;\n",
              "  background-color: var(--sklearn-color-background);\n",
              "  padding-right: 1em;\n",
              "  padding-left: 1em;\n",
              "}\n",
              "\n",
              "\n",
              "/* Toggleable style: style used for estimator/Pipeline/ColumnTransformer box that is\n",
              "clickable and can be expanded/collapsed.\n",
              "- Pipeline and ColumnTransformer use this feature and define the default style\n",
              "- Estimators will overwrite some part of the style using the `sk-estimator` class\n",
              "*/\n",
              "\n",
              "/* Pipeline and ColumnTransformer style (default) */\n",
              "\n",
              "#sk-container-id-1 div.sk-toggleable {\n",
              "  /* Default theme specific background. It is overwritten whether we have a\n",
              "  specific estimator or a Pipeline/ColumnTransformer */\n",
              "  background-color: var(--sklearn-color-background);\n",
              "}\n",
              "\n",
              "/* Toggleable label */\n",
              "#sk-container-id-1 label.sk-toggleable__label {\n",
              "  cursor: pointer;\n",
              "  display: flex;\n",
              "  width: 100%;\n",
              "  margin-bottom: 0;\n",
              "  padding: 0.5em;\n",
              "  box-sizing: border-box;\n",
              "  text-align: center;\n",
              "  align-items: start;\n",
              "  justify-content: space-between;\n",
              "  gap: 0.5em;\n",
              "}\n",
              "\n",
              "#sk-container-id-1 label.sk-toggleable__label .caption {\n",
              "  font-size: 0.6rem;\n",
              "  font-weight: lighter;\n",
              "  color: var(--sklearn-color-text-muted);\n",
              "}\n",
              "\n",
              "#sk-container-id-1 label.sk-toggleable__label-arrow:before {\n",
              "  /* Arrow on the left of the label */\n",
              "  content: \"▸\";\n",
              "  float: left;\n",
              "  margin-right: 0.25em;\n",
              "  color: var(--sklearn-color-icon);\n",
              "}\n",
              "\n",
              "#sk-container-id-1 label.sk-toggleable__label-arrow:hover:before {\n",
              "  color: var(--sklearn-color-text);\n",
              "}\n",
              "\n",
              "/* Toggleable content - dropdown */\n",
              "\n",
              "#sk-container-id-1 div.sk-toggleable__content {\n",
              "  max-height: 0;\n",
              "  max-width: 0;\n",
              "  overflow: hidden;\n",
              "  text-align: left;\n",
              "  /* unfitted */\n",
              "  background-color: var(--sklearn-color-unfitted-level-0);\n",
              "}\n",
              "\n",
              "#sk-container-id-1 div.sk-toggleable__content.fitted {\n",
              "  /* fitted */\n",
              "  background-color: var(--sklearn-color-fitted-level-0);\n",
              "}\n",
              "\n",
              "#sk-container-id-1 div.sk-toggleable__content pre {\n",
              "  margin: 0.2em;\n",
              "  border-radius: 0.25em;\n",
              "  color: var(--sklearn-color-text);\n",
              "  /* unfitted */\n",
              "  background-color: var(--sklearn-color-unfitted-level-0);\n",
              "}\n",
              "\n",
              "#sk-container-id-1 div.sk-toggleable__content.fitted pre {\n",
              "  /* unfitted */\n",
              "  background-color: var(--sklearn-color-fitted-level-0);\n",
              "}\n",
              "\n",
              "#sk-container-id-1 input.sk-toggleable__control:checked~div.sk-toggleable__content {\n",
              "  /* Expand drop-down */\n",
              "  max-height: 200px;\n",
              "  max-width: 100%;\n",
              "  overflow: auto;\n",
              "}\n",
              "\n",
              "#sk-container-id-1 input.sk-toggleable__control:checked~label.sk-toggleable__label-arrow:before {\n",
              "  content: \"▾\";\n",
              "}\n",
              "\n",
              "/* Pipeline/ColumnTransformer-specific style */\n",
              "\n",
              "#sk-container-id-1 div.sk-label input.sk-toggleable__control:checked~label.sk-toggleable__label {\n",
              "  color: var(--sklearn-color-text);\n",
              "  background-color: var(--sklearn-color-unfitted-level-2);\n",
              "}\n",
              "\n",
              "#sk-container-id-1 div.sk-label.fitted input.sk-toggleable__control:checked~label.sk-toggleable__label {\n",
              "  background-color: var(--sklearn-color-fitted-level-2);\n",
              "}\n",
              "\n",
              "/* Estimator-specific style */\n",
              "\n",
              "/* Colorize estimator box */\n",
              "#sk-container-id-1 div.sk-estimator input.sk-toggleable__control:checked~label.sk-toggleable__label {\n",
              "  /* unfitted */\n",
              "  background-color: var(--sklearn-color-unfitted-level-2);\n",
              "}\n",
              "\n",
              "#sk-container-id-1 div.sk-estimator.fitted input.sk-toggleable__control:checked~label.sk-toggleable__label {\n",
              "  /* fitted */\n",
              "  background-color: var(--sklearn-color-fitted-level-2);\n",
              "}\n",
              "\n",
              "#sk-container-id-1 div.sk-label label.sk-toggleable__label,\n",
              "#sk-container-id-1 div.sk-label label {\n",
              "  /* The background is the default theme color */\n",
              "  color: var(--sklearn-color-text-on-default-background);\n",
              "}\n",
              "\n",
              "/* On hover, darken the color of the background */\n",
              "#sk-container-id-1 div.sk-label:hover label.sk-toggleable__label {\n",
              "  color: var(--sklearn-color-text);\n",
              "  background-color: var(--sklearn-color-unfitted-level-2);\n",
              "}\n",
              "\n",
              "/* Label box, darken color on hover, fitted */\n",
              "#sk-container-id-1 div.sk-label.fitted:hover label.sk-toggleable__label.fitted {\n",
              "  color: var(--sklearn-color-text);\n",
              "  background-color: var(--sklearn-color-fitted-level-2);\n",
              "}\n",
              "\n",
              "/* Estimator label */\n",
              "\n",
              "#sk-container-id-1 div.sk-label label {\n",
              "  font-family: monospace;\n",
              "  font-weight: bold;\n",
              "  display: inline-block;\n",
              "  line-height: 1.2em;\n",
              "}\n",
              "\n",
              "#sk-container-id-1 div.sk-label-container {\n",
              "  text-align: center;\n",
              "}\n",
              "\n",
              "/* Estimator-specific */\n",
              "#sk-container-id-1 div.sk-estimator {\n",
              "  font-family: monospace;\n",
              "  border: 1px dotted var(--sklearn-color-border-box);\n",
              "  border-radius: 0.25em;\n",
              "  box-sizing: border-box;\n",
              "  margin-bottom: 0.5em;\n",
              "  /* unfitted */\n",
              "  background-color: var(--sklearn-color-unfitted-level-0);\n",
              "}\n",
              "\n",
              "#sk-container-id-1 div.sk-estimator.fitted {\n",
              "  /* fitted */\n",
              "  background-color: var(--sklearn-color-fitted-level-0);\n",
              "}\n",
              "\n",
              "/* on hover */\n",
              "#sk-container-id-1 div.sk-estimator:hover {\n",
              "  /* unfitted */\n",
              "  background-color: var(--sklearn-color-unfitted-level-2);\n",
              "}\n",
              "\n",
              "#sk-container-id-1 div.sk-estimator.fitted:hover {\n",
              "  /* fitted */\n",
              "  background-color: var(--sklearn-color-fitted-level-2);\n",
              "}\n",
              "\n",
              "/* Specification for estimator info (e.g. \"i\" and \"?\") */\n",
              "\n",
              "/* Common style for \"i\" and \"?\" */\n",
              "\n",
              ".sk-estimator-doc-link,\n",
              "a:link.sk-estimator-doc-link,\n",
              "a:visited.sk-estimator-doc-link {\n",
              "  float: right;\n",
              "  font-size: smaller;\n",
              "  line-height: 1em;\n",
              "  font-family: monospace;\n",
              "  background-color: var(--sklearn-color-background);\n",
              "  border-radius: 1em;\n",
              "  height: 1em;\n",
              "  width: 1em;\n",
              "  text-decoration: none !important;\n",
              "  margin-left: 0.5em;\n",
              "  text-align: center;\n",
              "  /* unfitted */\n",
              "  border: var(--sklearn-color-unfitted-level-1) 1pt solid;\n",
              "  color: var(--sklearn-color-unfitted-level-1);\n",
              "}\n",
              "\n",
              ".sk-estimator-doc-link.fitted,\n",
              "a:link.sk-estimator-doc-link.fitted,\n",
              "a:visited.sk-estimator-doc-link.fitted {\n",
              "  /* fitted */\n",
              "  border: var(--sklearn-color-fitted-level-1) 1pt solid;\n",
              "  color: var(--sklearn-color-fitted-level-1);\n",
              "}\n",
              "\n",
              "/* On hover */\n",
              "div.sk-estimator:hover .sk-estimator-doc-link:hover,\n",
              ".sk-estimator-doc-link:hover,\n",
              "div.sk-label-container:hover .sk-estimator-doc-link:hover,\n",
              ".sk-estimator-doc-link:hover {\n",
              "  /* unfitted */\n",
              "  background-color: var(--sklearn-color-unfitted-level-3);\n",
              "  color: var(--sklearn-color-background);\n",
              "  text-decoration: none;\n",
              "}\n",
              "\n",
              "div.sk-estimator.fitted:hover .sk-estimator-doc-link.fitted:hover,\n",
              ".sk-estimator-doc-link.fitted:hover,\n",
              "div.sk-label-container:hover .sk-estimator-doc-link.fitted:hover,\n",
              ".sk-estimator-doc-link.fitted:hover {\n",
              "  /* fitted */\n",
              "  background-color: var(--sklearn-color-fitted-level-3);\n",
              "  color: var(--sklearn-color-background);\n",
              "  text-decoration: none;\n",
              "}\n",
              "\n",
              "/* Span, style for the box shown on hovering the info icon */\n",
              ".sk-estimator-doc-link span {\n",
              "  display: none;\n",
              "  z-index: 9999;\n",
              "  position: relative;\n",
              "  font-weight: normal;\n",
              "  right: .2ex;\n",
              "  padding: .5ex;\n",
              "  margin: .5ex;\n",
              "  width: min-content;\n",
              "  min-width: 20ex;\n",
              "  max-width: 50ex;\n",
              "  color: var(--sklearn-color-text);\n",
              "  box-shadow: 2pt 2pt 4pt #999;\n",
              "  /* unfitted */\n",
              "  background: var(--sklearn-color-unfitted-level-0);\n",
              "  border: .5pt solid var(--sklearn-color-unfitted-level-3);\n",
              "}\n",
              "\n",
              ".sk-estimator-doc-link.fitted span {\n",
              "  /* fitted */\n",
              "  background: var(--sklearn-color-fitted-level-0);\n",
              "  border: var(--sklearn-color-fitted-level-3);\n",
              "}\n",
              "\n",
              ".sk-estimator-doc-link:hover span {\n",
              "  display: block;\n",
              "}\n",
              "\n",
              "/* \"?\"-specific style due to the `<a>` HTML tag */\n",
              "\n",
              "#sk-container-id-1 a.estimator_doc_link {\n",
              "  float: right;\n",
              "  font-size: 1rem;\n",
              "  line-height: 1em;\n",
              "  font-family: monospace;\n",
              "  background-color: var(--sklearn-color-background);\n",
              "  border-radius: 1rem;\n",
              "  height: 1rem;\n",
              "  width: 1rem;\n",
              "  text-decoration: none;\n",
              "  /* unfitted */\n",
              "  color: var(--sklearn-color-unfitted-level-1);\n",
              "  border: var(--sklearn-color-unfitted-level-1) 1pt solid;\n",
              "}\n",
              "\n",
              "#sk-container-id-1 a.estimator_doc_link.fitted {\n",
              "  /* fitted */\n",
              "  border: var(--sklearn-color-fitted-level-1) 1pt solid;\n",
              "  color: var(--sklearn-color-fitted-level-1);\n",
              "}\n",
              "\n",
              "/* On hover */\n",
              "#sk-container-id-1 a.estimator_doc_link:hover {\n",
              "  /* unfitted */\n",
              "  background-color: var(--sklearn-color-unfitted-level-3);\n",
              "  color: var(--sklearn-color-background);\n",
              "  text-decoration: none;\n",
              "}\n",
              "\n",
              "#sk-container-id-1 a.estimator_doc_link.fitted:hover {\n",
              "  /* fitted */\n",
              "  background-color: var(--sklearn-color-fitted-level-3);\n",
              "}\n",
              "</style><div id=\"sk-container-id-1\" class=\"sk-top-container\"><div class=\"sk-text-repr-fallback\"><pre>LogisticRegression(solver=&#x27;newton-cg&#x27;)</pre><b>In a Jupyter environment, please rerun this cell to show the HTML representation or trust the notebook. <br />On GitHub, the HTML representation is unable to render, please try loading this page with nbviewer.org.</b></div><div class=\"sk-container\" hidden><div class=\"sk-item\"><div class=\"sk-estimator fitted sk-toggleable\"><input class=\"sk-toggleable__control sk-hidden--visually\" id=\"sk-estimator-id-1\" type=\"checkbox\" checked><label for=\"sk-estimator-id-1\" class=\"sk-toggleable__label fitted sk-toggleable__label-arrow\"><div><div>LogisticRegression</div></div><div><a class=\"sk-estimator-doc-link fitted\" rel=\"noreferrer\" target=\"_blank\" href=\"https://scikit-learn.org/1.6/modules/generated/sklearn.linear_model.LogisticRegression.html\">?<span>Documentation for LogisticRegression</span></a><span class=\"sk-estimator-doc-link fitted\">i<span>Fitted</span></span></div></label><div class=\"sk-toggleable__content fitted\"><pre>LogisticRegression(solver=&#x27;newton-cg&#x27;)</pre></div> </div></div></div></div>"
            ]
          },
          "metadata": {},
          "execution_count": 16
        }
      ]
    },
    {
      "cell_type": "code",
      "source": [
        "model_lr.score(X_train,Y_train)"
      ],
      "metadata": {
        "colab": {
          "base_uri": "https://localhost:8080/"
        },
        "id": "9l9LvZjeibOR",
        "outputId": "63d079f9-1ac9-41d8-8f4f-fe02fcbdca36"
      },
      "execution_count": 17,
      "outputs": [
        {
          "output_type": "execute_result",
          "data": {
            "text/plain": [
              "0.808"
            ]
          },
          "metadata": {},
          "execution_count": 17
        }
      ]
    },
    {
      "cell_type": "code",
      "source": [
        "\n",
        "model_lr.score(X_test,Y_test)"
      ],
      "metadata": {
        "colab": {
          "base_uri": "https://localhost:8080/"
        },
        "id": "y-pQ1uQuic_U",
        "outputId": "dd43891b-a83d-4f05-b45b-442f60b767b6"
      },
      "execution_count": 18,
      "outputs": [
        {
          "output_type": "execute_result",
          "data": {
            "text/plain": [
              "0.8063333333333333"
            ]
          },
          "metadata": {},
          "execution_count": 18
        }
      ]
    },
    {
      "cell_type": "code",
      "source": [
        "from sklearn.neighbors import KNeighborsClassifier\n",
        "model_knn=KNeighborsClassifier(n_neighbors=15)\n",
        "model_knn.fit(X_train,Y_train)\n",
        "print(model_knn.score(X_train,Y_train))\n",
        "print(model_knn.score(X_test,Y_test))"
      ],
      "metadata": {
        "colab": {
          "base_uri": "https://localhost:8080/"
        },
        "id": "z6T1giFeifDQ",
        "outputId": "06a73356-cd7b-4b56-ba5c-525acab02d4e"
      },
      "execution_count": 19,
      "outputs": [
        {
          "output_type": "stream",
          "name": "stdout",
          "text": [
            "0.8007142857142857\n",
            "0.7826666666666666\n"
          ]
        }
      ]
    },
    {
      "cell_type": "code",
      "source": [
        "from sklearn.svm import SVC\n",
        "model_svc=SVC() #kernel,C\n",
        "model_svc.fit(X_train,Y_train)\n",
        "print(model_svc.score(X_train,Y_train))\n",
        "print(model_svc.score(X_test,Y_test))"
      ],
      "metadata": {
        "colab": {
          "base_uri": "https://localhost:8080/"
        },
        "id": "swSZZDMxjvQL",
        "outputId": "ffb26ca6-084f-49cc-f8a5-1f1105317623"
      },
      "execution_count": 21,
      "outputs": [
        {
          "output_type": "stream",
          "name": "stdout",
          "text": [
            "0.7988571428571428\n",
            "0.7903333333333333\n"
          ]
        }
      ]
    },
    {
      "cell_type": "code",
      "source": [
        "from sklearn.tree import DecisionTreeClassifier\n",
        "model_dt=DecisionTreeClassifier(max_depth=5)\n",
        "model_dt.fit(X_train,Y_train)\n",
        "print(model_dt.score(X_train,Y_train))\n",
        "print(model_dt.score(X_test,Y_test))"
      ],
      "metadata": {
        "colab": {
          "base_uri": "https://localhost:8080/"
        },
        "id": "UzHCpFi6krBn",
        "outputId": "e1fa3f71-a94b-49ee-f4ba-922e1876b62c"
      },
      "execution_count": 27,
      "outputs": [
        {
          "output_type": "stream",
          "name": "stdout",
          "text": [
            "0.8595714285714285\n",
            "0.8553333333333333\n"
          ]
        }
      ]
    },
    {
      "cell_type": "code",
      "source": [
        "from sklearn.ensemble import BaggingClassifier\n",
        "model_bag=BaggingClassifier(max_samples=0.056)\n",
        "model_bag.fit(X_train,Y_train)\n",
        "print(model_bag.score(X_train,Y_train))\n",
        "print(model_bag.score(X_test,Y_test))"
      ],
      "metadata": {
        "colab": {
          "base_uri": "https://localhost:8080/"
        },
        "id": "590hLFFkmcuR",
        "outputId": "80edb26b-bce9-4890-a224-dc2b0803b532"
      },
      "execution_count": 31,
      "outputs": [
        {
          "output_type": "stream",
          "name": "stdout",
          "text": [
            "0.8555714285714285\n",
            "0.851\n"
          ]
        }
      ]
    },
    {
      "cell_type": "code",
      "source": [
        "from sklearn.ensemble import AdaBoostClassifier\n",
        "model_abc=AdaBoostClassifier()\n",
        "model_abc.fit(X_train,Y_train)\n",
        "print(model_abc.score(X_train,Y_train))\n",
        "print(model_abc.score(X_test,Y_test))"
      ],
      "metadata": {
        "colab": {
          "base_uri": "https://localhost:8080/"
        },
        "id": "jY9Gjmq3ncNR",
        "outputId": "bf57aa96-7e23-4767-aae5-a8c6843b7eca"
      },
      "execution_count": 35,
      "outputs": [
        {
          "output_type": "stream",
          "name": "stdout",
          "text": [
            "0.8511428571428571\n",
            "0.8546666666666667\n"
          ]
        }
      ]
    },
    {
      "cell_type": "code",
      "source": [
        "from sklearn.ensemble import GradientBoostingClassifier\n",
        "model_gbc=GradientBoostingClassifier(max_depth=5,learning_rate=0.025)\n",
        "model_gbc.fit(X_train,Y_train)\n",
        "print(model_gbc.score(X_train,Y_train))\n",
        "print(model_gbc.score(X_test,Y_test))"
      ],
      "metadata": {
        "colab": {
          "base_uri": "https://localhost:8080/"
        },
        "id": "tVncCE0Mnru4",
        "outputId": "610aed6f-bf5c-41a0-c761-31e25b2db4e1"
      },
      "execution_count": 43,
      "outputs": [
        {
          "output_type": "stream",
          "name": "stdout",
          "text": [
            "0.8698571428571429\n",
            "0.8653333333333333\n"
          ]
        }
      ]
    },
    {
      "cell_type": "code",
      "source": [
        "from sklearn.ensemble import RandomForestClassifier\n",
        "model_rfc=RandomForestClassifier(max_depth=5)\n",
        "model_rfc.fit(X_train,Y_train)\n",
        "print(model_rfc.score(X_train,Y_train))\n",
        "print(model_rfc.score(X_test,Y_test))"
      ],
      "metadata": {
        "colab": {
          "base_uri": "https://localhost:8080/"
        },
        "id": "8fuRCMgjn72P",
        "outputId": "7d839efc-ba13-4b5d-9501-3b70067d48f4"
      },
      "execution_count": 53,
      "outputs": [
        {
          "output_type": "stream",
          "name": "stdout",
          "text": [
            "0.8612857142857143\n",
            "0.8553333333333333\n"
          ]
        }
      ]
    },
    {
      "cell_type": "code",
      "source": [
        "### TOP n-> RFC,GBC,Bag,ABC,DTC"
      ],
      "metadata": {
        "id": "m6uUxzq7ohEL"
      },
      "execution_count": null,
      "outputs": []
    },
    {
      "cell_type": "code",
      "source": [
        "from sklearn.metrics import confusion_matrix\n",
        "y_pred_rfc = model_rfc.predict(X_test)\n",
        "cm_rfc = confusion_matrix(Y_test, y_pred_rfc)\n",
        "sns.heatmap(cm_rfc, annot=True, fmt='d', cmap='Blues')\n",
        "plt.xlabel('Predicted')\n",
        "plt.ylabel('Actual')\n",
        "plt.title('Confusion Matrix for Random Forest Classifier')\n",
        "plt.show()"
      ],
      "metadata": {
        "colab": {
          "base_uri": "https://localhost:8080/",
          "height": 472
        },
        "id": "vFsiO0nXpKSM",
        "outputId": "c0313a23-7f41-409a-a1d7-6ddb99625be1"
      },
      "execution_count": 54,
      "outputs": [
        {
          "output_type": "display_data",
          "data": {
            "text/plain": [
              "<Figure size 640x480 with 2 Axes>"
            ],
            "image/png": "[encoded data removed]"
          },
          "metadata": {}
        }
      ]
    },
    {
      "cell_type": "code",
      "source": [
        "FN=398\n",
        "FP=36"
      ],
      "metadata": {
        "id": "xGSTmd_OpMef"
      },
      "execution_count": 55,
      "outputs": []
    },
    {
      "cell_type": "code",
      "source": [
        "y_pred_gbc = model_gbc.predict(X_test)\n",
        "cm_gbc = confusion_matrix(Y_test, y_pred_gbc)\n",
        "sns.heatmap(cm_gbc, annot=True, fmt='d', cmap='Blues')\n",
        "plt.xlabel('Predicted')\n",
        "plt.ylabel('Actual')\n",
        "plt.title('Confusion Matrix for Gradient Classifier')\n",
        "plt.show()"
      ],
      "metadata": {
        "colab": {
          "base_uri": "https://localhost:8080/",
          "height": 472
        },
        "id": "BXG3KeqRpRZS",
        "outputId": "14f165e8-8f3b-4b5c-9794-6c53cd4abe85"
      },
      "execution_count": 56,
      "outputs": [
        {
          "output_type": "display_data",
          "data": {
            "text/plain": [
              "<Figure size 640x480 with 2 Axes>"
            ],
            "image/png": "[encoded data removed]"
          },
          "metadata": {}
        }
      ]
    },
    {
      "cell_type": "code",
      "source": [
        "FN=356\n",
        "FP=48"
      ],
      "metadata": {
        "id": "PIfSabb_pdzz"
      },
      "execution_count": 57,
      "outputs": []
    },
    {
      "cell_type": "code",
      "source": [
        "y_pred_bag = model_bag.predict(X_test)\n",
        "cm_bag = confusion_matrix(Y_test, y_pred_bag)\n",
        "sns.heatmap(cm_bag, annot=True, fmt='d', cmap='Blues')\n",
        "plt.xlabel('Predicted')\n",
        "plt.ylabel('Actual')\n",
        "plt.title('Confusion Matrix for Bagging Classifier')\n",
        "plt.show()"
      ],
      "metadata": {
        "colab": {
          "base_uri": "https://localhost:8080/",
          "height": 472
        },
        "id": "IQ0CJtCLpicy",
        "outputId": "9af77bab-c74f-4b97-ccb9-09f33d99da32"
      },
      "execution_count": 58,
      "outputs": [
        {
          "output_type": "display_data",
          "data": {
            "text/plain": [
              "<Figure size 640x480 with 2 Axes>"
            ],
            "image/png": "[encoded data removed]"
          },
          "metadata": {}
        }
      ]
    },
    {
      "cell_type": "code",
      "source": [
        "FN=349\n",
        "FP=98"
      ],
      "metadata": {
        "id": "ibyofUydptpK"
      },
      "execution_count": 59,
      "outputs": []
    },
    {
      "cell_type": "code",
      "source": [
        "y_pred_abc = model_abc.predict(X_test)\n",
        "cm_abc = confusion_matrix(Y_test, y_pred_abc)\n",
        "sns.heatmap(cm_abc, annot=True, fmt='d', cmap='Blues')\n",
        "plt.xlabel('Predicted')\n",
        "plt.ylabel('Actual')\n",
        "plt.title('Confusion Matrix forAdaboost Classifier')\n",
        "plt.show()"
      ],
      "metadata": {
        "colab": {
          "base_uri": "https://localhost:8080/",
          "height": 472
        },
        "id": "I-RwZPC0pxHL",
        "outputId": "490291f4-3281-4466-e65a-326c26394479"
      },
      "execution_count": 60,
      "outputs": [
        {
          "output_type": "display_data",
          "data": {
            "text/plain": [
              "<Figure size 640x480 with 2 Axes>"
            ],
            "image/png": "[encoded data removed]"
          },
          "metadata": {}
        }
      ]
    },
    {
      "cell_type": "code",
      "source": [
        "FN=335\n",
        "FP=101"
      ],
      "metadata": {
        "id": "u1YWKE4Vp8IW"
      },
      "execution_count": 61,
      "outputs": []
    },
    {
      "cell_type": "code",
      "source": [
        "y_pred_dt = model_dt.predict(X_test)\n",
        "cm_dt = confusion_matrix(Y_test, y_pred_dt)\n",
        "sns.heatmap(cm_dt, annot=True, fmt='d', cmap='Blues')\n",
        "plt.xlabel('Predicted')\n",
        "plt.ylabel('Actual')\n",
        "plt.title('Confusion Matrix for Decision Tree Classifier')\n",
        "plt.show()"
      ],
      "metadata": {
        "colab": {
          "base_uri": "https://localhost:8080/",
          "height": 472
        },
        "id": "hhRfr2AdqBGa",
        "outputId": "0b2660ab-f972-4399-b6c6-e7c1d37069eb"
      },
      "execution_count": 63,
      "outputs": [
        {
          "output_type": "display_data",
          "data": {
            "text/plain": [
              "<Figure size 640x480 with 2 Axes>"
            ],
            "image/png": "[encoded data removed]"
          },
          "metadata": {}
        }
      ]
    },
    {
      "cell_type": "code",
      "source": [
        "FN=382\n",
        "FP=52"
      ],
      "metadata": {
        "id": "Qbb_L4VWqKPW"
      },
      "execution_count": 64,
      "outputs": []
    },
    {
      "cell_type": "code",
      "source": [
        "## For Example FN is risky.SO ABC is having less FN"
      ],
      "metadata": {
        "id": "B51nOwFlqhKV"
      },
      "execution_count": null,
      "outputs": []
    },
    {
      "cell_type": "code",
      "source": [
        "#Deploy model_abc with gradio"
      ],
      "metadata": {
        "id": "QHCHzrn2w5Wb"
      },
      "execution_count": null,
      "outputs": []
    },
    {
      "cell_type": "code",
      "source": [
        "!pip install gradio -q\n",
        "\n",
        "import gradio as gr\n",
        "\n",
        "def predict_churn(CreditScore, Geography, Gender, Age, Tenure, Balance, NumOfProducts, HasCrCard, IsActiveMember, EstimatedSalary):\n",
        "    # Create a DataFrame with the input features\n",
        "    # Ensure the order of columns matches the training data\n",
        "    input_data = pd.DataFrame([[CreditScore, Geography, Gender, Age, Tenure, Balance, NumOfProducts, HasCrCard, IsActiveMember, EstimatedSalary]],\n",
        "                              columns=['CreditScore', 'Geography', 'Gender', 'Age', 'Tenure', 'Balance', 'NumOfProducts', 'HasCrCard', 'IsActiveMember', 'EstimatedSalary'])\n",
        "\n",
        "    # Make prediction using the trained model\n",
        "    prediction = model_abc.predict(input_data)\n",
        "\n",
        "    # Return the prediction result\n",
        "    if prediction[0] == 1:\n",
        "        return \"Churn\"\n",
        "    else:\n",
        "        return \"No Churn\"\n",
        "\n",
        "# Define the Gradio interface\n",
        "inputs = [\n",
        "    gr.Slider(minimum=350, maximum=850, label=\"CreditScore\"),\n",
        "    gr.Dropdown(choices=[0, 1, 2], label=\"Geography (0: France, 1: Germany, 2: Spain)\"), # Assuming 0, 1, 2 represent the encoded values\n",
        "    gr.Dropdown(choices=[0, 1], label=\"Gender (0: Female, 1: Male)\"), # Assuming 0 and 1 represent the encoded values\n",
        "    gr.Slider(minimum=18, maximum=92, label=\"Age\"),\n",
        "    gr.Slider(minimum=0, maximum=10, label=\"Tenure\"),\n",
        "    gr.Number(label=\"Balance\"),\n",
        "    gr.Slider(minimum=1, maximum=4, step=1, label=\"NumOfProducts\"),\n",
        "    gr.Dropdown(choices=[0, 1], label=\"HasCrCard (0: No, 1: Yes)\"),\n",
        "    gr.Dropdown(choices=[0, 1], label=\"IsActiveMember (0: No, 1: Yes)\"),\n",
        "    gr.Number(label=\"EstimatedSalary\")\n",
        "]\n",
        "\n",
        "outputs = gr.Textbox(label=\"Prediction\")\n",
        "\n",
        "gr.Interface(fn=predict_churn, inputs=inputs, outputs=outputs).launch()"
      ],
      "metadata": {
        "colab": {
          "base_uri": "https://localhost:8080/",
          "height": 648
        },
        "id": "jsoZAxXKq-uB",
        "outputId": "137dd719-3747-435a-a28c-a04be36fecd7"
      },
      "execution_count": 65,
      "outputs": [
        {
          "output_type": "stream",
          "name": "stdout",
          "text": [
            "It looks like you are running Gradio on a hosted Jupyter notebook, which requires `share=True`. Automatically setting `share=True` (you can turn this off by setting `share=False` in `launch()` explicitly).\n",
            "\n",
            "Colab notebook detected. To show errors in colab notebook, set debug=True in launch()\n",
            "* Running on public URL: https://073ee50e4ad5354cbc.gradio.live\n",
            "\n",
            "This share link expires in 1 week. For free permanent hosting and GPU upgrades, run `gradio deploy` from the terminal in the working directory to deploy to Hugging Face Spaces (https://huggingface.co/spaces)\n"
          ]
        },
        {
          "output_type": "display_data",
          "data": {
            "text/plain": [
              "<IPython.core.display.HTML object>"
            ],
            "text/html": [
              "<div><iframe src=\"https://073ee50e4ad5354cbc.gradio.live\" width=\"100%\" height=\"500\" allow=\"autoplay; camera; microphone; clipboard-read; clipboard-write;\" frameborder=\"0\" allowfullscreen></iframe></div>"
            ]
          },
          "metadata": {}
        },
        {
          "output_type": "execute_result",
          "data": {
            "text/plain": []
          },
          "metadata": {},
          "execution_count": 65
        }
      ]
    },
    {
      "cell_type": "code",
      "source": [
        "3,15619304,Onio,502,France,Female,42,8,159660.8,3,1,0,113931.57,1"
      ],
      "metadata": {
        "id": "dPNcQA9ZwdXF"
      },
      "execution_count": null,
      "outputs": []
    }
  ]
}